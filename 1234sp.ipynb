{
  "nbformat": 4,
  "nbformat_minor": 0,
  "metadata": {
    "colab": {
      "provenance": []
    },
    "kernelspec": {
      "name": "python3",
      "display_name": "Python 3"
    },
    "language_info": {
      "name": "python"
    }
  },
  "cells": [
    {
      "cell_type": "code",
      "source": [
        "print(\"Hello Word\")"
      ],
      "metadata": {
        "colab": {
          "base_uri": "https://localhost:8080/"
        },
        "id": "Em66tg651FE6",
        "outputId": "bb0c6076-6fb3-4e85-958b-8bf35c4c267c"
      },
      "execution_count": 38,
      "outputs": [
        {
          "output_type": "stream",
          "name": "stdout",
          "text": [
            "Hello Word\n"
          ]
        }
      ]
    },
    {
      "cell_type": "code",
      "source": [
        "i = input()\n",
        "j = input()\n",
        "print(i +j)\n"
      ],
      "metadata": {
        "colab": {
          "base_uri": "https://localhost:8080/"
        },
        "id": "WmBDDM4f1IyC",
        "outputId": "c6398fe7-ce49-40cb-a212-ddd6e77a90cc"
      },
      "execution_count": 43,
      "outputs": [
        {
          "output_type": "stream",
          "name": "stdout",
          "text": [
            "BKC\n",
            "college\n",
            "BKCcollege\n"
          ]
        }
      ]
    },
    {
      "cell_type": "code",
      "source": [
        "X = 100\n",
        "Y = 50\n",
        "print(f'addition of {X} and {Y} value is = {X + Y}')"
      ],
      "metadata": {
        "colab": {
          "base_uri": "https://localhost:8080/"
        },
        "id": "zClZQoQj4I7p",
        "outputId": "7bf6686a-609e-4cd2-ce38-035b6011ed25"
      },
      "execution_count": 45,
      "outputs": [
        {
          "output_type": "stream",
          "name": "stdout",
          "text": [
            "addition of 100 and 50 value is = 150\n"
          ]
        }
      ]
    },
    {
      "cell_type": "code",
      "source": [
        "X = 100\n",
        "Y = 50\n",
        "print(f'division of{X} and {Y} value is = {X/Y}')"
      ],
      "metadata": {
        "colab": {
          "base_uri": "https://localhost:8080/"
        },
        "id": "HT5l-87y4IyS",
        "outputId": "5302c0a1-d8f4-4287-eb95-1fd928578b55"
      },
      "execution_count": 48,
      "outputs": [
        {
          "output_type": "stream",
          "name": "stdout",
          "text": [
            "division of100 and 50 value is = 2.0\n"
          ]
        }
      ]
    },
    {
      "cell_type": "code",
      "source": [
        "# Hi, Good Morning My name is Sarika, i have completed MCA in the year of\n",
        "# 2022, currently i'm working in kLE BK BCA College Chikkodi 591244\n",
        "name = \"Sarika\"\n",
        "course = \"MCA\"\n",
        "year = 2022\n",
        "Department = \"BCA\"\n",
        "pincode = 591244\n",
        "\n",
        "print(f\"Hi, Good morning My name is {name}, i have completed {course}, in the year of {year}, currently i'm working in KLE BK {Department},College Chikkodi {pincode}\")\n"
      ],
      "metadata": {
        "colab": {
          "base_uri": "https://localhost:8080/"
        },
        "id": "2cF8MB5B5QOh",
        "outputId": "1df2c1b1-dbde-470c-a1c1-3425ee0535fc"
      },
      "execution_count": 62,
      "outputs": [
        {
          "output_type": "stream",
          "name": "stdout",
          "text": [
            "Hi, Good morning My name is Sarika, i have completed MCA, in the year of 2022, currently i'm working in KLE BK BCA,College Chikkodi 591244\n"
          ]
        }
      ]
    },
    {
      "cell_type": "code",
      "source": [
        "a = 10\n",
        "b = 20\n",
        "print( \"addition of a+b\")\n",
        "print(\"substraction of a-b\")\n",
        "print(\"multiplication of a*b\")\n",
        "print(\"division of a/b\")\n",
        "print(\"madulo divisin ofa%b\")\n",
        "print(\"floor division of a//b\")\n",
        "print(\"exponent division of a**b\")\n",
        "\n"
      ],
      "metadata": {
        "colab": {
          "base_uri": "https://localhost:8080/"
        },
        "id": "QTxHhlh1BjWr",
        "outputId": "0dbe7b4e-91bc-47f2-f508-490d08c6674a"
      },
      "execution_count": 71,
      "outputs": [
        {
          "output_type": "stream",
          "name": "stdout",
          "text": [
            "addition of a+b\n",
            "substraction of a-b\n",
            "multiplication of a*b\n",
            "division of a/b\n",
            "madulo divisin ofa%b\n",
            "floor division of a//b\n",
            "exponent division of a**b\n"
          ]
        }
      ]
    },
    {
      "cell_type": "code",
      "source": [
        "Num1 = int(intput(\"Enter Num1 value : \"))\n",
        "Num = int ( intput(\"Enter Num2 value : \"))\n",
        "print(\"Addition of two numbers is  :\" , Num1 + Num2)\n",
        "print(\"subtraction of two numbers is :\", num1 + num2)\n",
        "print(\"multiplication of two numbers is :\", num1 * num2)\n",
        "print(\"\")\n"
      ],
      "metadata": {
        "id": "wcCMqR2VBVEC"
      },
      "execution_count": null,
      "outputs": []
    },
    {
      "cell_type": "code",
      "source": [
        "a = 20\n",
        "b = 35\n",
        "c = 13\n",
        "d = 10\n",
        "print( a == b and c < d)\n",
        "print( 13 != c and d < c)\n",
        "print(b > a and d < c)\n",
        "print( 20!= a and c==b)\n",
        "print(a <b or d ==c)\n",
        "print((not(a < b )) and 100 < 200)\n",
        "print(not(d ==10))\n",
        "print(35 !=d or ( not(20==a)) )\n",
        "print(not(c <= b and (not(a <= c))))\n"
      ],
      "metadata": {
        "colab": {
          "base_uri": "https://localhost:8080/"
        },
        "id": "T_WZnkONOh1h",
        "outputId": "81eedb4b-8ece-48ba-9ef2-32ba70fe9f57"
      },
      "execution_count": 87,
      "outputs": [
        {
          "output_type": "stream",
          "name": "stdout",
          "text": [
            "False\n",
            "False\n",
            "True\n",
            "False\n",
            "True\n",
            "False\n",
            "False\n",
            "True\n",
            "False\n"
          ]
        }
      ]
    },
    {
      "cell_type": "code",
      "source": [
        "X = 10\n",
        "X -= 2\n",
        "print(X)\n",
        "\n"
      ],
      "metadata": {
        "colab": {
          "base_uri": "https://localhost:8080/"
        },
        "id": "7fPL_jniR757",
        "outputId": "6f6c8dbc-8c0f-47ad-c40c-691cad6d0c4f"
      },
      "execution_count": 92,
      "outputs": [
        {
          "output_type": "stream",
          "name": "stdout",
          "text": [
            "8\n"
          ]
        }
      ]
    },
    {
      "cell_type": "code",
      "source": [
        "X *= 5\n",
        "print(X)"
      ],
      "metadata": {
        "colab": {
          "base_uri": "https://localhost:8080/"
        },
        "id": "domLTp2RUTYJ",
        "outputId": "100221c0-2c3a-4227-9358-0ca351d51d95"
      },
      "execution_count": 93,
      "outputs": [
        {
          "output_type": "stream",
          "name": "stdout",
          "text": [
            "40\n"
          ]
        }
      ]
    },
    {
      "cell_type": "code",
      "source": [
        " X = 10\n",
        " X //=3\n",
        "print(X)"
      ],
      "metadata": {
        "colab": {
          "base_uri": "https://localhost:8080/"
        },
        "id": "KfoutQCyUO4U",
        "outputId": "675c3db0-2eed-487d-f3ef-f5c44e1afa06"
      },
      "execution_count": 116,
      "outputs": [
        {
          "output_type": "stream",
          "name": "stdout",
          "text": [
            "3\n"
          ]
        }
      ]
    },
    {
      "cell_type": "code",
      "source": [
        "X**=2\n",
        "print(X)"
      ],
      "metadata": {
        "colab": {
          "base_uri": "https://localhost:8080/"
        },
        "id": "UFEf_qFGWI7T",
        "outputId": "84842a35-c567-495d-8402-f008fa1c2d05"
      },
      "execution_count": 115,
      "outputs": [
        {
          "output_type": "stream",
          "name": "stdout",
          "text": [
            "81\n"
          ]
        }
      ]
    },
    {
      "cell_type": "code",
      "source": [
        "X %=4\n",
        "print(X)"
      ],
      "metadata": {
        "colab": {
          "base_uri": "https://localhost:8080/"
        },
        "id": "vGw7BzOKWThz",
        "outputId": "7b239257-85de-48a2-9d65-79096fbdad49"
      },
      "execution_count": 118,
      "outputs": [
        {
          "output_type": "stream",
          "name": "stdout",
          "text": [
            "3\n"
          ]
        }
      ]
    },
    {
      "cell_type": "code",
      "source": [
        "X = 10\n",
        "print(X)\n",
        "\n",
        "X -=2\n",
        "print(X)\n",
        "\n",
        "X*=5\n",
        "print(X)\n",
        "\n",
        "X //=3\n",
        "print(X)\n",
        "\n",
        "X**=2\n",
        "print(X)\n",
        "\n",
        "X %=4\n",
        "print(X)\n",
        "\n",
        "X +=9\n",
        "print(X)\n",
        "\n",
        "X /=3\n",
        "print(X)"
      ],
      "metadata": {
        "colab": {
          "base_uri": "https://localhost:8080/"
        },
        "id": "vrxV9NRmWfhQ",
        "outputId": "e7d997e9-3bd0-41f7-a128-8f0f0db2c551"
      },
      "execution_count": 119,
      "outputs": [
        {
          "output_type": "stream",
          "name": "stdout",
          "text": [
            "10\n",
            "8\n",
            "40\n",
            "13\n",
            "169\n",
            "1\n",
            "10\n",
            "3.3333333333333335\n"
          ]
        }
      ]
    },
    {
      "cell_type": "code",
      "source": [
        "Num = 9\n",
        "if Num<10:\n",
        "  print(\"10 is a greater than 9\")\n",
        "\n"
      ],
      "metadata": {
        "colab": {
          "base_uri": "https://localhost:8080/"
        },
        "id": "aDyHqhhLYDiH",
        "outputId": "3e355b61-9252-42fe-98b1-e7f7721fb2d0"
      },
      "execution_count": 121,
      "outputs": [
        {
          "output_type": "stream",
          "name": "stdout",
          "text": [
            "10 is a greater than 9\n"
          ]
        }
      ]
    },
    {
      "cell_type": "code",
      "source": [
        "user_id = \"20MCA103\"\n",
        "Passaword = 1234\n",
        "if user_id ==\"20MCA103\" and Passaword ==1234:\n",
        "  print(\"login successfully\")"
      ],
      "metadata": {
        "colab": {
          "base_uri": "https://localhost:8080/"
        },
        "id": "Y-71eERWuxwL",
        "outputId": "ec23b737-a43b-4be3-ccfb-662b03b6cb5a"
      },
      "execution_count": 122,
      "outputs": [
        {
          "output_type": "stream",
          "name": "stdout",
          "text": [
            "login successfully\n"
          ]
        }
      ]
    },
    {
      "cell_type": "code",
      "source": [
        "Name = \"Sarika\"\n",
        "if Name <= \"BKC\" :\n",
        "  print(\"My name is Sarika\")"
      ],
      "metadata": {
        "colab": {
          "base_uri": "https://localhost:8080/",
          "height": 106
        },
        "id": "yYKRBKxvv_ab",
        "outputId": "e4df4c59-2699-4397-85af-055f22a3b754"
      },
      "execution_count": 143,
      "outputs": [
        {
          "output_type": "error",
          "ename": "IndentationError",
          "evalue": "expected an indented block after 'if' statement on line 2 (ipython-input-1633850181.py, line 3)",
          "traceback": [
            "\u001b[0;36m  File \u001b[0;32m\"/tmp/ipython-input-1633850181.py\"\u001b[0;36m, line \u001b[0;32m3\u001b[0m\n\u001b[0;31m    print(\"My name is Sarika\")\u001b[0m\n\u001b[0m    ^\u001b[0m\n\u001b[0;31mIndentationError\u001b[0m\u001b[0;31m:\u001b[0m expected an indented block after 'if' statement on line 2\n"
          ]
        }
      ]
    },
    {
      "cell_type": "code",
      "source": [
        "Num = int(input(\"enter a number value :\"))\n",
        "if Num > 0 :\n",
        "     print(\"positive number\")\n",
        "else :\n",
        "     print(\"negative number\")\n",
        "\n",
        ""
      ],
      "metadata": {
        "id": "nADn4pqHzVLS",
        "outputId": "653f3e6b-45a5-4387-af39-9e6309b1ce2b",
        "colab": {
          "base_uri": "https://localhost:8080/"
        }
      },
      "execution_count": 148,
      "outputs": [
        {
          "output_type": "stream",
          "name": "stdout",
          "text": [
            "enter a number value :99\n",
            "positive number\n"
          ]
        }
      ]
    },
    {
      "cell_type": "code",
      "source": [
        "Ex = 59\n",
        "if Ex == 58:\n",
        "  print(\"are you understand\")"
      ],
      "metadata": {
        "id": "ldWUpv6XvwIb"
      },
      "execution_count": 127,
      "outputs": []
    },
    {
      "cell_type": "code",
      "source": [
        "Num = int(input(\"enter a number valuea :\"))\n",
        "if Num % 2 == 0 :\n",
        "     print(\"even number\")\n",
        "else :\n",
        "      print(\"odd number\")"
      ],
      "metadata": {
        "colab": {
          "base_uri": "https://localhost:8080/"
        },
        "id": "hW5ZTbU_uxeT",
        "outputId": "5803fa47-9941-4c3d-c867-23054109ff13"
      },
      "execution_count": 155,
      "outputs": [
        {
          "output_type": "stream",
          "name": "stdout",
          "text": [
            "enter a number valuea :99\n",
            "odd number\n"
          ]
        }
      ]
    },
    {
      "cell_type": "code",
      "source": [
        "yes = int(input(\"Enter a year value :\"))\n",
        "    if year % 4 == 0 :\n",
        "         print(\"Leap year\")\n",
        "    else :\n",
        "         print(\"not leap year\")"
      ],
      "metadata": {
        "id": "LMwVCw5O0e2j",
        "outputId": "99e222a6-20c0-4452-b9bd-c220a7ae4ab7",
        "colab": {
          "base_uri": "https://localhost:8080/",
          "height": 106
        }
      },
      "execution_count": 181,
      "outputs": [
        {
          "output_type": "error",
          "ename": "IndentationError",
          "evalue": "unexpected indent (ipython-input-4085813651.py, line 2)",
          "traceback": [
            "\u001b[0;36m  File \u001b[0;32m\"/tmp/ipython-input-4085813651.py\"\u001b[0;36m, line \u001b[0;32m2\u001b[0m\n\u001b[0;31m    if year% 4 == 0 :\u001b[0m\n\u001b[0m    ^\u001b[0m\n\u001b[0;31mIndentationError\u001b[0m\u001b[0;31m:\u001b[0m unexpected indent\n"
          ]
        }
      ]
    },
    {
      "cell_type": "code",
      "source": [
        "Age = int (input(\"enter age value :\"))\n",
        "if Age >= 18:\n",
        "      print(\"they are eligible for vote\")\n",
        "\n",
        "else:\n",
        "      print(\"they have to wait\")\n",
        ""
      ],
      "metadata": {
        "id": "DfdReLHO5b4r",
        "outputId": "10af0382-0ca7-42a7-9d6a-3b2bcf1e5d77",
        "colab": {
          "base_uri": "https://localhost:8080/"
        }
      },
      "execution_count": 179,
      "outputs": [
        {
          "output_type": "stream",
          "name": "stdout",
          "text": [
            "enter age value :21\n",
            "they are eligible for vote\n"
          ]
        }
      ]
    },
    {
      "cell_type": "code",
      "source": [
        "user_id =input(\"enter user_id value :\")\n",
        "password = input(\"enter password value :\")\n",
        "if user_id == \"College\" and password == \"1234\" :\n",
        "     print(\"loginn  successfully\")\n",
        "else :\n",
        "      print(\"invalid details\")\n"
      ],
      "metadata": {
        "id": "GWDhyLb565dj",
        "outputId": "86b26362-aa58-4cf2-9046-bd39f09c0ac6",
        "colab": {
          "base_uri": "https://localhost:8080/"
        }
      },
      "execution_count": 194,
      "outputs": [
        {
          "output_type": "stream",
          "name": "stdout",
          "text": [
            "enter user_id value :College\n",
            "enter password value :1234\n",
            "loginn  successfully\n"
          ]
        }
      ]
    },
    {
      "cell_type": "code",
      "source": [
        "marks = int (input(\"entera marks value :\"))\n",
        "if marks >= 85 :\n",
        "   print(\"Distiction\")\n",
        "elif marks >= 70 :\n",
        "   print(\"first class\")\n",
        "elif marks >= 55 :\n",
        "    print(\"second clss\")\n",
        "elif marks >= 35 :\n",
        "    print(\"just pass\")\n",
        "else:\n",
        "    print(\"fail better luck next chance\")\n"
      ],
      "metadata": {
        "id": "D0tjnEWZ_gic",
        "outputId": "2e13c3cd-1927-4ff4-c36c-e4e450bfa232",
        "colab": {
          "base_uri": "https://localhost:8080/"
        }
      },
      "execution_count": 199,
      "outputs": [
        {
          "output_type": "stream",
          "name": "stdout",
          "text": [
            "entera marks value :89\n",
            "Distiction\n"
          ]
        }
      ]
    },
    {
      "cell_type": "code",
      "source": [
        "prize = input(\"entera prize medel :\")\n",
        "if prize == \"Gold\" :\n",
        "    print(\"first prize\")\n",
        "elif prize == \"Silver\" :\n",
        "    print(\"second prize\")\n",
        "elif prize == \"Bronze\" :\n",
        "    print(\"third prize\")\n",
        "elif prize == \"certificate\" :\n",
        "    print(\"samadhanakar bahuman\")\n",
        "else:\n",
        "     print(\"better luck next chance\")\n",
        ""
      ],
      "metadata": {
        "id": "7yUgPNN-C47s",
        "outputId": "38ebb9d8-ed88-4330-e320-1bb966936ccc",
        "colab": {
          "base_uri": "https://localhost:8080/"
        }
      },
      "execution_count": 204,
      "outputs": [
        {
          "output_type": "stream",
          "name": "stdout",
          "text": [
            "entera prize medel :Gold\n",
            "first prize\n"
          ]
        }
      ]
    },
    {
      "cell_type": "code",
      "source": [],
      "metadata": {
        "id": "u436anKJGNck"
      },
      "execution_count": null,
      "outputs": []
    },
    {
      "cell_type": "code",
      "source": [],
      "metadata": {
        "id": "r4vLwQOyJC77"
      },
      "execution_count": null,
      "outputs": []
    },
    {
      "cell_type": "code",
      "source": [],
      "metadata": {
        "id": "SfTdWmLBJCuN"
      },
      "execution_count": null,
      "outputs": []
    },
    {
      "cell_type": "markdown",
      "source": [],
      "metadata": {
        "id": "KgPRkuUkF0fb"
      }
    }
  ]
}