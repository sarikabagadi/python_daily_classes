{
  "nbformat": 4,
  "nbformat_minor": 0,
  "metadata": {
    "colab": {
      "provenance": []
    },
    "kernelspec": {
      "name": "python3",
      "display_name": "Python 3"
    },
    "language_info": {
      "name": "python"
    }
  },
  "cells": [
    {
      "cell_type": "code",
      "execution_count": 1,
      "metadata": {
        "colab": {
          "base_uri": "https://localhost:8080/"
        },
        "id": "NhJgsreAvCXF",
        "outputId": "152fe6b8-c104-4424-9a77-b7da61a8c14f"
      },
      "outputs": [
        {
          "output_type": "stream",
          "name": "stdout",
          "text": [
            "<class 'int'>\n",
            "<class 'float'>\n"
          ]
        }
      ],
      "source": [
        "a = 123\n",
        "print(type(a))\n",
        "print(type(float(a)))"
      ]
    },
    {
      "cell_type": "code",
      "source": [
        "a = 9.98\n",
        "print(type(a))\n",
        "print(type(int(a)))"
      ],
      "metadata": {
        "colab": {
          "base_uri": "https://localhost:8080/"
        },
        "id": "9s7594yEvtAN",
        "outputId": "a440eb09-525c-4449-8f43-2938c6cf5f50"
      },
      "execution_count": 4,
      "outputs": [
        {
          "output_type": "stream",
          "name": "stdout",
          "text": [
            "<class 'float'>\n",
            "<class 'int'>\n"
          ]
        }
      ]
    },
    {
      "cell_type": "code",
      "source": [
        "ex = [\"labtop\", 39000,\"wimdow\", \"lenovo\", \"Bengaluru\", \"laptop\", 39000, \"MAC\", \"lenovo\", \"Chikkodi\"]\n",
        "print(ex)\n",
        "print(ex.count(\"lenovo\"))\n",
        "print(type(ex))"
      ],
      "metadata": {
        "id": "fxowuohvppDJ",
        "outputId": "37509d62-bcd9-41b7-a05b-7df996ed4047",
        "colab": {
          "base_uri": "https://localhost:8080/"
        }
      },
      "execution_count": 10,
      "outputs": [
        {
          "output_type": "stream",
          "name": "stdout",
          "text": [
            "['labtop', 39000, 'wimdow', 'lenovo', 'Bengaluru', 'laptop', 39000, 'MAC', 'lenovo', 'Chikkodi']\n",
            "2\n",
            "<class 'list'>\n"
          ]
        }
      ]
    },
    {
      "cell_type": "code",
      "source": [
        "A = 10\n",
        "B = 20\n",
        "print(A + B)"
      ],
      "metadata": {
        "id": "h5qglYN-po1x",
        "outputId": "88f63f14-8c68-4838-8e80-641a4179b826",
        "colab": {
          "base_uri": "https://localhost:8080/"
        }
      },
      "execution_count": 11,
      "outputs": [
        {
          "output_type": "stream",
          "name": "stdout",
          "text": [
            "30\n"
          ]
        }
      ]
    },
    {
      "cell_type": "code",
      "source": [],
      "metadata": {
        "id": "Z-K-58TwsLHR"
      },
      "execution_count": 36,
      "outputs": []
    },
    {
      "cell_type": "code",
      "source": [
        "#Addition of 10 and 20 value is = 30\n",
        "x = (\"Addition of 10 and 20 value is = 30\")\n",
        "print(x)"
      ],
      "metadata": {
        "id": "4Fc5g73Itr_B",
        "outputId": "0fd5c17b-17c6-4fb7-80da-016cf2a33a96",
        "colab": {
          "base_uri": "https://localhost:8080/"
        }
      },
      "execution_count": 19,
      "outputs": [
        {
          "output_type": "stream",
          "name": "stdout",
          "text": [
            "Addition of 10 and 20 value is = 30\n"
          ]
        }
      ]
    },
    {
      "cell_type": "code",
      "source": [
        "first = float(input(\"enter first value: \"))\n",
        "second = float(input(\"enter second value: \"))\n",
        "print(first * second)\n"
      ],
      "metadata": {
        "id": "Sl8TuXAovBRh",
        "outputId": "ecb3f081-5c94-4be0-9bd9-d520cfadd6f6",
        "colab": {
          "base_uri": "https://localhost:8080/"
        }
      },
      "execution_count": 33,
      "outputs": [
        {
          "output_type": "stream",
          "name": "stdout",
          "text": [
            "enter first value: 10\n",
            "enter second value: 5\n",
            "50.0\n"
          ]
        }
      ]
    },
    {
      "cell_type": "code",
      "source": [
        "first_name = input(\"Enter first name : \")\n",
        "last_name = input(\"Enter last name : \")\n",
        "print(first_name + last_name)\n"
      ],
      "metadata": {
        "id": "xTJJRyMLxAZa",
        "outputId": "b80a325a-3732-4160-9bd0-990e6b8ac1aa",
        "colab": {
          "base_uri": "https://localhost:8080/"
        }
      },
      "execution_count": 35,
      "outputs": [
        {
          "output_type": "stream",
          "name": "stdout",
          "text": [
            "Enter first name : Pooja\n",
            "Enter last name : sarika\n",
            "Poojasarika\n"
          ]
        }
      ]
    },
    {
      "cell_type": "code",
      "source": [
        "i = int(input())\n",
        "j = int(input())\n",
        "print(i*j)"
      ],
      "metadata": {
        "id": "M2hWA-TyxxZx",
        "outputId": "aece844b-cd8c-4378-bc63-4b9c99c5658a",
        "colab": {
          "base_uri": "https://localhost:8080/"
        }
      },
      "execution_count": 36,
      "outputs": [
        {
          "output_type": "stream",
          "name": "stdout",
          "text": [
            "7\n",
            "6\n",
            "42\n"
          ]
        }
      ]
    },
    {
      "cell_type": "code",
      "source": [],
      "metadata": {
        "id": "U29TuggEy94i"
      },
      "execution_count": null,
      "outputs": []
    }
  ]
}