{
  "nbformat": 4,
  "nbformat_minor": 0,
  "metadata": {
    "colab": {
      "provenance": []
    },
    "kernelspec": {
      "name": "python3",
      "display_name": "Python 3"
    },
    "language_info": {
      "name": "python"
    }
  },
  "cells": [
    {
      "cell_type": "code",
      "execution_count": 1,
      "metadata": {
        "colab": {
          "base_uri": "https://localhost:8080/"
        },
        "id": "ObhsC2rgJ37a",
        "outputId": "baf7c5ff-fb62-45b9-d3a5-900dcd1dc701"
      },
      "outputs": [
        {
          "output_type": "stream",
          "name": "stdout",
          "text": [
            "10\n"
          ]
        }
      ],
      "source": [
        "a=10\n",
        "print(a)"
      ]
    },
    {
      "cell_type": "code",
      "source": [
        "print (100/3)"
      ],
      "metadata": {
        "colab": {
          "base_uri": "https://localhost:8080/"
        },
        "id": "SWYNg7oVLaDu",
        "outputId": "a0ed1d56-82f1-423b-feeb-5c9440119841"
      },
      "execution_count": 2,
      "outputs": [
        {
          "output_type": "stream",
          "name": "stdout",
          "text": [
            "33.333333333333336\n"
          ]
        }
      ]
    },
    {
      "cell_type": "code",
      "source": [
        "print(\"python programming language\\n\" * 5)"
      ],
      "metadata": {
        "colab": {
          "base_uri": "https://localhost:8080/"
        },
        "id": "Musx96B7MBAN",
        "outputId": "d6edc229-7a57-4667-9d7a-fd201c12c928"
      },
      "execution_count": 3,
      "outputs": [
        {
          "output_type": "stream",
          "name": "stdout",
          "text": [
            "python programming language\n",
            "python programming language\n",
            "python programming language\n",
            "python programming language\n",
            "python programming language\n",
            "\n"
          ]
        }
      ]
    },
    {
      "cell_type": "code",
      "source": [
        "print(\" i am sarika from kudachi i have completed pu in kudachi in the year of 2025 i got marks in pu 80%\")"
      ],
      "metadata": {
        "colab": {
          "base_uri": "https://localhost:8080/"
        },
        "id": "kYkLOjcnM882",
        "outputId": "575bf992-cec4-4de6-bce2-e3a4c07c28df"
      },
      "execution_count": 4,
      "outputs": [
        {
          "output_type": "stream",
          "name": "stdout",
          "text": [
            " i am sarika from kudachi i have completed pu in kudachi in the year of 2025 i got marks in pu 80%\n"
          ]
        }
      ]
    },
    {
      "cell_type": "code",
      "source": [
        "print(\"Hello\" + \"word\")"
      ],
      "metadata": {
        "colab": {
          "base_uri": "https://localhost:8080/"
        },
        "id": "u21r2gcYOEhF",
        "outputId": "7084e70c-816f-4e95-e1ad-53e0ed05413b"
      },
      "execution_count": 5,
      "outputs": [
        {
          "output_type": "stream",
          "name": "stdout",
          "text": [
            "Helloword\n"
          ]
        }
      ]
    },
    {
      "cell_type": "code",
      "source": [
        "print(\"good morning goood morning good morning good morning good morning good morning good morning good morning good morning good morning \")"
      ],
      "metadata": {
        "colab": {
          "base_uri": "https://localhost:8080/"
        },
        "id": "aRvHjhNePMD1",
        "outputId": "e68e3648-9b6a-4430-bad7-4cb53e0466b4"
      },
      "execution_count": 6,
      "outputs": [
        {
          "output_type": "stream",
          "name": "stdout",
          "text": [
            "good morning goood morning good morning good morning good morning good morning good morning good morning good morning good morning \n"
          ]
        }
      ]
    },
    {
      "cell_type": "code",
      "source": [
        "print(\"Good Morning\\n\" *10)"
      ],
      "metadata": {
        "colab": {
          "base_uri": "https://localhost:8080/"
        },
        "id": "v2cZwNxjP1j8",
        "outputId": "04519950-22ba-4ec6-fae1-74cc33eea7a1"
      },
      "execution_count": 7,
      "outputs": [
        {
          "output_type": "stream",
          "name": "stdout",
          "text": [
            "Good Morning\n",
            "Good Morning\n",
            "Good Morning\n",
            "Good Morning\n",
            "Good Morning\n",
            "Good Morning\n",
            "Good Morning\n",
            "Good Morning\n",
            "Good Morning\n",
            "Good Morning\n",
            "\n"
          ]
        }
      ]
    },
    {
      "cell_type": "code",
      "source": [
        "name=\"sarika\"\n",
        "print(name)"
      ],
      "metadata": {
        "colab": {
          "base_uri": "https://localhost:8080/"
        },
        "id": "GC87GjDIQBlE",
        "outputId": "c25ed7c4-cdd4-4f34-e048-3920c4b9363e"
      },
      "execution_count": 8,
      "outputs": [
        {
          "output_type": "stream",
          "name": "stdout",
          "text": [
            "sarika\n"
          ]
        }
      ]
    },
    {
      "cell_type": "code",
      "source": [
        " print(\"dbms=30\")\n",
        "   print(\"account=30\")\n",
        "   cp=30\n",
        "ic=30\n",
        "hindi=30\n",
        "english=30\n",
        "\n"
      ],
      "metadata": {
        "colab": {
          "base_uri": "https://localhost:8080/",
          "height": 110
        },
        "id": "Qu3DVDarQhGU",
        "outputId": "e8280f10-a3d7-414f-ad27-c2711a6a7c69"
      },
      "execution_count": 15,
      "outputs": [
        {
          "output_type": "error",
          "ename": "IndentationError",
          "evalue": "unexpected indent (ipython-input-999517345.py, line 2)",
          "traceback": [
            "\u001b[0;36m  File \u001b[0;32m\"/tmp/ipython-input-999517345.py\"\u001b[0;36m, line \u001b[0;32m2\u001b[0m\n\u001b[0;31m    print(\"account=30\")\u001b[0m\n\u001b[0m    ^\u001b[0m\n\u001b[0;31mIndentationError\u001b[0m\u001b[0;31m:\u001b[0m unexpected indent\n"
          ]
        }
      ]
    },
    {
      "cell_type": "code",
      "source": [
        "age=18\n",
        "age=18\n",
        "print(age,age)"
      ],
      "metadata": {
        "colab": {
          "base_uri": "https://localhost:8080/"
        },
        "id": "NQalR-NOYhiz",
        "outputId": "40d6e89f-f5d6-4a52-cce5-44be073d1ff2"
      },
      "execution_count": 16,
      "outputs": [
        {
          "output_type": "stream",
          "name": "stdout",
          "text": [
            "18 18\n"
          ]
        }
      ]
    },
    {
      "cell_type": "code",
      "source": [
        "x=10\n",
        "x=10\n",
        "print(x,x)"
      ],
      "metadata": {
        "colab": {
          "base_uri": "https://localhost:8080/"
        },
        "id": "3fwpILBMYy1L",
        "outputId": "b25e63cc-4acf-47e9-85f3-e5189923f972"
      },
      "execution_count": 17,
      "outputs": [
        {
          "output_type": "stream",
          "name": "stdout",
          "text": [
            "10 10\n"
          ]
        }
      ]
    },
    {
      "cell_type": "code",
      "source": [
        "y=3.24\n",
        "print(y)"
      ],
      "metadata": {
        "colab": {
          "base_uri": "https://localhost:8080/"
        },
        "id": "Roim_qwpZSiM",
        "outputId": "95c188a1-5534-44ee-e404-4d5e3bccf267"
      },
      "execution_count": 19,
      "outputs": [
        {
          "output_type": "stream",
          "name": "stdout",
          "text": [
            "3.24\n"
          ]
        }
      ]
    },
    {
      "cell_type": "code",
      "source": [
        "yes=True\n",
        "print(yes)"
      ],
      "metadata": {
        "colab": {
          "base_uri": "https://localhost:8080/"
        },
        "id": "8i8qyFXIYyki",
        "outputId": "ae862e02-70ef-4570-bd75-0f219b0e723c"
      },
      "execution_count": 20,
      "outputs": [
        {
          "output_type": "stream",
          "name": "stdout",
          "text": [
            "True\n"
          ]
        }
      ]
    },
    {
      "cell_type": "code",
      "source": [
        "na$me=121\n",
        "print(na$me)"
      ],
      "metadata": {
        "colab": {
          "base_uri": "https://localhost:8080/",
          "height": 110
        },
        "id": "rXWhOtNGZxqK",
        "outputId": "a032d69c-1e74-4897-b13c-19f7aa7e1e37"
      },
      "execution_count": 21,
      "outputs": [
        {
          "output_type": "error",
          "ename": "SyntaxError",
          "evalue": "invalid syntax (ipython-input-955503051.py, line 1)",
          "traceback": [
            "\u001b[0;36m  File \u001b[0;32m\"/tmp/ipython-input-955503051.py\"\u001b[0;36m, line \u001b[0;32m1\u001b[0m\n\u001b[0;31m    na$me=121\u001b[0m\n\u001b[0m      ^\u001b[0m\n\u001b[0;31mSyntaxError\u001b[0m\u001b[0;31m:\u001b[0m invalid syntax\n"
          ]
        }
      ]
    },
    {
      "cell_type": "code",
      "source": [
        "NA_12_ME=\"Chikodi\"\n",
        "print(NA_12_ME)"
      ],
      "metadata": {
        "colab": {
          "base_uri": "https://localhost:8080/"
        },
        "id": "YnYyaJwVaDhl",
        "outputId": "037f2acc-2e9e-4bd0-94fc-953949fcbe8a"
      },
      "execution_count": 25,
      "outputs": [
        {
          "output_type": "stream",
          "name": "stdout",
          "text": [
            "Chikodi\n"
          ]
        }
      ]
    },
    {
      "cell_type": "code",
      "source": [
        "name=\"college\"\n",
        "per=67.89\n",
        "print(name,per)\n"
      ],
      "metadata": {
        "colab": {
          "base_uri": "https://localhost:8080/"
        },
        "id": "IBp09M66aulJ",
        "outputId": "86fcea07-997c-4f55-bac0-78d77d4fb2bb"
      },
      "execution_count": 29,
      "outputs": [
        {
          "output_type": "stream",
          "name": "stdout",
          "text": [
            "college 67.89\n"
          ]
        }
      ]
    },
    {
      "cell_type": "code",
      "source": [
        "# My name is sarika, i'm studying in BKC College\n",
        "College = \"BKC College\"\n",
        "name= \"sarika\"\n",
        "print(\"My name is\",name, \"I'm studying in\",College)"
      ],
      "metadata": {
        "colab": {
          "base_uri": "https://localhost:8080/"
        },
        "id": "X-ReNf7AbCm5",
        "outputId": "41e52ac8-379d-4e3d-93e5-8809e9bb0cf9"
      },
      "execution_count": 33,
      "outputs": [
        {
          "output_type": "stream",
          "name": "stdout",
          "text": [
            "My name is sarika I'm studying in BKC College\n"
          ]
        }
      ]
    },
    {
      "cell_type": "code",
      "source": [
        "# I have completed PUC in sanket Pu College in the year of 2025, i got percentage is 89.44\n",
        "Name = \"Sanket\"\n",
        "per = 89.44\n",
        "Year =2025\n",
        "print(\"I have completed PUC in\",Name,\"Pu College in the year of\",year,\"i got percentage is\",per)"
      ],
      "metadata": {
        "colab": {
          "base_uri": "https://localhost:8080/"
        },
        "id": "8hY_umPJbCZi",
        "outputId": "e4d4a133-4370-477e-c53c-68943e610e39"
      },
      "execution_count": 49,
      "outputs": [
        {
          "output_type": "stream",
          "name": "stdout",
          "text": [
            "I have completed PUC in Sanket Pu College in the year of 2025 i got percentage is 89.44\n"
          ]
        }
      ]
    },
    {
      "cell_type": "code",
      "source": [
        "# Hello Good Evening, How are you, i' m fine, where are you from i'm from chikidi, so nice\n",
        "text = \" Good Evening\"\n",
        "address = \"I'm from chikodi\"\n",
        "print(\"hello\", text, \" how are you i'm fine, where are you from\",address ,\"so nice\")"
      ],
      "metadata": {
        "colab": {
          "base_uri": "https://localhost:8080/"
        },
        "id": "hXyxk-YuaCuJ",
        "outputId": "4917ef79-e31f-4b13-952f-a9af42a624a3"
      },
      "execution_count": 56,
      "outputs": [
        {
          "output_type": "stream",
          "name": "stdout",
          "text": [
            "hello  Good Evening  how are you i'm fine, where are you from I'm from chikodi so nice\n"
          ]
        }
      ]
    },
    {
      "cell_type": "code",
      "source": [],
      "metadata": {
        "id": "KrwNyT39i6c5"
      },
      "execution_count": null,
      "outputs": []
    },
    {
      "cell_type": "code",
      "source": [],
      "metadata": {
        "id": "Nxx0bmuBYhTC"
      },
      "execution_count": null,
      "outputs": []
    },
    {
      "cell_type": "code",
      "source": [],
      "metadata": {
        "id": "zrQ9v11PQg0U"
      },
      "execution_count": null,
      "outputs": []
    },
    {
      "cell_type": "code",
      "source": [],
      "metadata": {
        "id": "Q4BDRTm8P1Vk"
      },
      "execution_count": null,
      "outputs": []
    },
    {
      "cell_type": "code",
      "source": [],
      "metadata": {
        "id": "3e9QZ82uPL21"
      },
      "execution_count": null,
      "outputs": []
    },
    {
      "cell_type": "code",
      "source": [],
      "metadata": {
        "id": "mEJ9xDvLOA71"
      },
      "execution_count": null,
      "outputs": []
    },
    {
      "cell_type": "code",
      "source": [],
      "metadata": {
        "id": "t-SFtBRQOAm-"
      },
      "execution_count": null,
      "outputs": []
    }
  ]
}