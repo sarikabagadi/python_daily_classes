{
  "nbformat": 4,
  "nbformat_minor": 0,
  "metadata": {
    "colab": {
      "provenance": []
    },
    "kernelspec": {
      "name": "python3",
      "display_name": "Python 3"
    },
    "language_info": {
      "name": "python"
    }
  },
  "cells": [
    {
      "cell_type": "code",
      "execution_count": 6,
      "metadata": {
        "colab": {
          "base_uri": "https://localhost:8080/"
        },
        "id": "ivnmo6KS7i4i",
        "outputId": "0045f376-14f2-44ab-87a6-7371f4643cb2"
      },
      "outputs": [
        {
          "output_type": "stream",
          "name": "stdout",
          "text": [
            "total value is : 15\n",
            "total value is : 18\n",
            "total value is : 90\n"
          ]
        }
      ],
      "source": [
        "# 1) example sum of numbers using *args\n",
        "def add(*args):\n",
        "  total = 0\n",
        "  for num in args :\n",
        "    total +=num\n",
        "  print(\"total value is :\",total)\n",
        "add(10,5)\n",
        "add(5,4,9)\n",
        "add(10,46,14,20)\n"
      ]
    },
    {
      "cell_type": "code",
      "source": [
        "def print_details(**kwargs):\n",
        "  for key, value in kwargs.items():\n",
        "    print(f\"{key}={value}\")\n",
        "print_details(name=\"sarika\", age=25, city=\"banlore\")"
      ],
      "metadata": {
        "colab": {
          "base_uri": "https://localhost:8080/"
        },
        "id": "igCzrZ3sFcYb",
        "outputId": "1f0139f0-3b47-44cb-a557-a9eb56fa8398"
      },
      "execution_count": 9,
      "outputs": [
        {
          "output_type": "stream",
          "name": "stdout",
          "text": [
            "name=sarika\n",
            "age=25\n",
            "city=banlore\n"
          ]
        }
      ]
    },
    {
      "cell_type": "code",
      "source": [
        "def details(**kwargs):\n",
        "  for key, value in kwargs.items():\n",
        "    print(f\"{key}={value}\")\n",
        "details(cours=\"BCA\",section='c',college=\"BK college\")\n",
        "details(place = \"bengaluru\")\n",
        "details(roll_num = 201,T_Subject=7)\n",
        "details(Laptop = \"hp\", o_s = \"window\",year = 2022, version = \"window\")\n"
      ],
      "metadata": {
        "colab": {
          "base_uri": "https://localhost:8080/"
        },
        "id": "diLBmtBvGYrj",
        "outputId": "406006d1-b9aa-4d72-d96a-5a3db34ace01"
      },
      "execution_count": 14,
      "outputs": [
        {
          "output_type": "stream",
          "name": "stdout",
          "text": [
            "cours=BCA\n",
            "section=c\n",
            "college=BK college\n",
            "place=bengaluru\n",
            "roll_num=201\n",
            "T_Subject=7\n",
            "Laptop=hp\n",
            "o_s=window\n",
            "year=2022\n",
            "version=window\n"
          ]
        }
      ]
    },
    {
      "cell_type": "code",
      "source": [
        "# example of *args and **kwargs\n",
        "def show_value(*args,**kwargs):\n",
        "  print(\"position Arguments represented in tuple\",args)\n",
        "  print(\"key - word Arguments represented in Dict \",kwargs)\n",
        "show_value(1,2,3,4,name=\"sarika\")\n",
        "\n",
        "show_value(5,8,1,10,Class = \"BCA C section\",gender = \"female\")"
      ],
      "metadata": {
        "colab": {
          "base_uri": "https://localhost:8080/"
        },
        "id": "Eu1iT2YCJm2z",
        "outputId": "7dc4a719-4a5e-47eb-eb4e-8ba4d0bf9e55"
      },
      "execution_count": 19,
      "outputs": [
        {
          "output_type": "stream",
          "name": "stdout",
          "text": [
            "position Arguments represented in tuple (1, 2, 3, 4)\n",
            "key - word Arguments represented in Dict  {'name': 'sarika'}\n",
            "position Arguments represented in tuple (5, 8, 1, 10)\n",
            "key - word Arguments represented in Dict  {'Class': 'BCA C section', 'gender': 'female'}\n"
          ]
        }
      ]
    },
    {
      "cell_type": "code",
      "source": [
        "fact = 1\n",
        "for i in range(1,6):\n",
        "  fact *=i\n",
        "print(fact)"
      ],
      "metadata": {
        "colab": {
          "base_uri": "https://localhost:8080/"
        },
        "id": "7uzsQkjzLCE7",
        "outputId": "2bc32acf-741f-49bc-cab4-32ff27e5067a"
      },
      "execution_count": 21,
      "outputs": [
        {
          "output_type": "stream",
          "name": "stdout",
          "text": [
            "120\n"
          ]
        }
      ]
    },
    {
      "cell_type": "code",
      "source": [
        "def fact(num):\n",
        "  if num==0 or num==1:\n",
        "    return 1\n",
        "  else:\n",
        "    return num*fact(num-1)\n",
        "print(fact(5))"
      ],
      "metadata": {
        "colab": {
          "base_uri": "https://localhost:8080/"
        },
        "id": "Ku3XoOUtO75U",
        "outputId": "b39b14ab-41a3-45e2-a282-87214943971f"
      },
      "execution_count": 32,
      "outputs": [
        {
          "output_type": "stream",
          "name": "stdout",
          "text": [
            "120\n"
          ]
        }
      ]
    },
    {
      "cell_type": "code",
      "source": [
        "# sum of recursion\n",
        "def sum(numbers):\n",
        " if numbers==0 :\n",
        "   return numbers\n",
        " else:\n",
        "   return numbers+sum(numbers-1)\n",
        "print(\"sum of N natural numbers:\",sum(10))"
      ],
      "metadata": {
        "colab": {
          "base_uri": "https://localhost:8080/"
        },
        "id": "sSEyMHEYRz0M",
        "outputId": "d6e1be51-a14b-4369-e45d-6ae30eaa35f7"
      },
      "execution_count": 43,
      "outputs": [
        {
          "output_type": "stream",
          "name": "stdout",
          "text": [
            "sum of N natural numbers: 55\n"
          ]
        }
      ]
    },
    {
      "cell_type": "code",
      "source": [
        " # fibonaci number recursion\n",
        " def fib(n):\n",
        "    if n <= 1:\n",
        "       return n\n",
        "    else:\n",
        "      return fib(n-1)+fib(n-2)\n",
        " for i in range(11):\n",
        "   print(fib(i),end=\" \")"
      ],
      "metadata": {
        "colab": {
          "base_uri": "https://localhost:8080/"
        },
        "id": "VG9DuUffOw7j",
        "outputId": "4ffbdd13-158e-4c70-c105-196233bb5cde"
      },
      "execution_count": 56,
      "outputs": [
        {
          "output_type": "stream",
          "name": "stdout",
          "text": [
            "0 1 1 2 3 5 8 13 21 34 55 "
          ]
        }
      ]
    },
    {
      "cell_type": "code",
      "source": [
        "Name = \"sarika\"\n",
        "print(Name[:6])"
      ],
      "metadata": {
        "colab": {
          "base_uri": "https://localhost:8080/"
        },
        "id": "CEEVWnlMbj18",
        "outputId": "2b0a3940-0a4e-4120-e824-ced78a51c22b"
      },
      "execution_count": 57,
      "outputs": [
        {
          "output_type": "stream",
          "name": "stdout",
          "text": [
            "sarika\n"
          ]
        }
      ]
    },
    {
      "cell_type": "code",
      "source": [
        "class Fruit:\n",
        "  colour =\"Orange\"\n",
        "  price =250\n",
        "  teste =\"sweet\"\n",
        "  shape = \"circle\"\n",
        "  def juice(self):\n",
        "     print(\"dilecious\")\n",
        "orange = Fruit()\n",
        "print(\"orange teste\",orange.teste)\n",
        "orange.juice()\n"
      ],
      "metadata": {
        "colab": {
          "base_uri": "https://localhost:8080/"
        },
        "id": "4UVZL1gYi7yq",
        "outputId": "3c89437c-acb6-4849-c08f-dc15a63d4a83"
      },
      "execution_count": 72,
      "outputs": [
        {
          "output_type": "stream",
          "name": "stdout",
          "text": [
            "orange teste sweet\n",
            "dilecious\n"
          ]
        }
      ]
    },
    {
      "cell_type": "code",
      "source": [
        "class Flower:\n",
        "  smell =\"nice\"\n",
        "  petals = 5\n",
        "  size = \"midium\"\n",
        "  gender = \"female\"\n",
        "  validity = 1.5\n",
        "  def decoration(self):\n",
        "    print(\"beautiful\")\n",
        "  def gift(self):\n",
        "    print(\"looking like wow\")\n",
        "  def death(self):\n",
        "    print(\"This flower using for death time\")\n",
        "\n",
        "Obj = Flower()\n",
        "Obj.gift()\n",
        "print(Obj.gender)\n",
        "Obj.decoration()\n",
        "Obj.death()\n",
        "print(Obj.petals)\n",
        "print(Obj.validity)\n",
        "\n",
        ""
      ],
      "metadata": {
        "colab": {
          "base_uri": "https://localhost:8080/"
        },
        "id": "YsvO8MkanmIO",
        "outputId": "eb2c0d6e-4b74-46b2-c436-3ba7e994553b"
      },
      "execution_count": 76,
      "outputs": [
        {
          "output_type": "stream",
          "name": "stdout",
          "text": [
            "looking like wow\n",
            "female\n",
            "beautiful\n",
            "This flower using for death time\n",
            "5\n",
            "1.5\n"
          ]
        }
      ]
    },
    {
      "cell_type": "code",
      "source": [
        "class Fan :\n",
        "  colour = \"Black\"\n",
        "  Wings = 3\n",
        "  C_name =\"Bajaj\"\n",
        "  price = 1500\n",
        "  Warrenty = \"2 years\"\n",
        "  def start(Self):\n",
        "    print(\"When click on butten it'll start\")\n",
        "  def speed(Self):\n",
        "    print(\"Based on condition it'll move fast\")\n",
        "  def stop(Self):\n",
        "   print(\"When click on off button it'll start\")\n",
        "\n",
        "\n",
        "Obj = Fan()\n",
        "print(Obj.C_name+\" \"+Obj.Warrenty)\n",
        "Obj.stop()\n"
      ],
      "metadata": {
        "colab": {
          "base_uri": "https://localhost:8080/"
        },
        "id": "ODxy5vM4rXUF",
        "outputId": "5d29a8dd-c82f-43e9-b423-24c8964550bf"
      },
      "execution_count": 89,
      "outputs": [
        {
          "output_type": "stream",
          "name": "stdout",
          "text": [
            "Bajaj 2 years\n",
            "When click on off button it'll start\n"
          ]
        }
      ]
    },
    {
      "cell_type": "code",
      "source": [
        "#Banking Example\n",
        "class Bank :\n",
        "  def __init__(self,balance):\n",
        "    self.balance = balance\n",
        "\n",
        "  def Deposit(self, amount):\n",
        "    self.balance += amount\n",
        "\n",
        "  def Withdraw(self,amount):\n",
        "      if amount <= self.balance:\n",
        "          self.balance -= amount\n",
        "          print(\"Transation successfully\")\n",
        "      else:\n",
        "          print(\"Insufficient balance\")\n",
        "\n",
        "  def re_balance(self):\n",
        "      return self.balance\n",
        "\n",
        "Obj = Bank(1000)\n",
        "print(Obj.balance)\n",
        "Obj.Deposit(500)\n",
        "print(Obj.balance)\n",
        "Obj.Withdraw(700)\n",
        "print(Obj.re_balance())\n",
        "Obj.Deposit(1000)\n",
        "print(\"Current total balance is\",Obj.balance)\n",
        "Obj.Withdraw(2000)\n",
        "Obj.Withdraw(300)\n",
        "print(Obj.re_balance())\n",
        ""
      ],
      "metadata": {
        "colab": {
          "base_uri": "https://localhost:8080/"
        },
        "id": "cBk8pkAnCpoz",
        "outputId": "07b945b4-f643-45d0-bdbd-2b4d4be38459"
      },
      "execution_count": 115,
      "outputs": [
        {
          "output_type": "stream",
          "name": "stdout",
          "text": [
            "1000\n",
            "1500\n",
            "Transation successfully\n",
            "800\n",
            "Current total balance is 1800\n",
            "Insufficient balance\n",
            "Transation successfully\n",
            "1500\n"
          ]
        }
      ]
    },
    {
      "cell_type": "code",
      "source": [
        "class Student :\n",
        "   def __init__(self,name,marks):\n",
        "     self.__name = name\n",
        "     self.__marks = marks\n",
        "   def set(self,name,marks):\n",
        "     self.name = name\n",
        "     self.marks = marks\n",
        "   def get(self):\n",
        "     return self.name + \" \" + str(self.marks)\n",
        "Obj = Student(\"Pooja\",18)\n",
        "Obj.set(\"Sharath\",21)\n",
        "print(Obj.get())"
      ],
      "metadata": {
        "colab": {
          "base_uri": "https://localhost:8080/"
        },
        "id": "nLIjq6jwE8H4",
        "outputId": "f7e9e69d-6c3e-4f2d-e338-fc78b491b117"
      },
      "execution_count": 146,
      "outputs": [
        {
          "output_type": "stream",
          "name": "stdout",
          "text": [
            "Sharath 21\n"
          ]
        }
      ]
    },
    {
      "cell_type": "code",
      "source": [
        "# 1) Single Inheritance\n",
        "class Parent :\n",
        "  def Work(self):\n",
        "    print(\"My parents are doing forming\")\n",
        "\n",
        "class Children(Parent):\n",
        "  def Study(self):\n",
        "    print(\"I'm studing BCA in BK College\")\n",
        "ch = Children()\n",
        "ch.Work()\n",
        ""
      ],
      "metadata": {
        "colab": {
          "base_uri": "https://localhost:8080/"
        },
        "id": "zyUe0tuPDzB6",
        "outputId": "6665b9b7-00a0-4ac7-f5f0-f6964c4eb558"
      },
      "execution_count": 150,
      "outputs": [
        {
          "output_type": "stream",
          "name": "stdout",
          "text": [
            "My parents are doing forming\n"
          ]
        }
      ]
    },
    {
      "cell_type": "code",
      "source": [
        "# multiple Inheritance\n",
        "class father :\n",
        "  def Hi(self):\n",
        "    print(\"My father is my first hero\")\n",
        "class Mother :\n",
        "  def Hello(self):\n",
        "    print(\"My Mother is a House wife\")\n",
        "class child(father,Mother):\n",
        "  def Bye(self):\n",
        "    print(\"I'm Working as a Freelancer\")\n",
        "obj = child()\n",
        "obj.Hi()\n",
        "obj.Hello()\n",
        "obj.Bye()"
      ],
      "metadata": {
        "id": "forIgD-zXck2",
        "outputId": "2f0e0673-d2fc-4f30-ec34-b35c192ae936",
        "colab": {
          "base_uri": "https://localhost:8080/"
        }
      },
      "execution_count": 157,
      "outputs": [
        {
          "output_type": "stream",
          "name": "stdout",
          "text": [
            "My father is my first hero\n",
            "My Mother is a House wife\n",
            "I'm Working as a Freelancer\n"
          ]
        }
      ]
    },
    {
      "cell_type": "code",
      "source": [
        "# Multi Level Inheritance\n",
        "class Grand_Parents :\n",
        "  def Business(self):\n",
        "    print(\"* * * * *\")\n",
        "class Parents (Grand_Parents):\n",
        "  def building(self):\n",
        "    print(\"# # # #\")\n",
        "class Child (Parents) :\n",
        "  def Funny(self):\n",
        "    print(\"@ @ @ @\")\n",
        "obj = Child()\n",
        "obj.building()\n",
        "obj.Funny()\n",
        "obj.Business()"
      ],
      "metadata": {
        "id": "YUVx5jaqXcnu",
        "outputId": "c417a628-09bf-458b-875c-9a6c24758d8d",
        "colab": {
          "base_uri": "https://localhost:8080/"
        }
      },
      "execution_count": 166,
      "outputs": [
        {
          "output_type": "stream",
          "name": "stdout",
          "text": [
            "# # # #\n",
            "@ @ @ @\n",
            "* * * * *\n"
          ]
        }
      ]
    },
    {
      "cell_type": "code",
      "source": [
        "# Hirarchy Inheritance\n",
        "class Parents :\n",
        "  def owner(self):\n",
        "    print(\"My parents are owner of my house\")\n",
        "class Child1(Parents):\n",
        "  def Work(self):\n",
        "    print(\"Working in Company\")\n",
        "class Child2(Parents) :\n",
        "  def Enjoy(self):\n",
        "    print(\"He was Enjoing his life\")\n",
        "ch = Child1()\n",
        "ch.owner()\n",
        "ch.Work()\n",
        "\n",
        "obj = Child2()\n",
        "obj.owner()\n",
        "obj.Enjoy()"
      ],
      "metadata": {
        "id": "UAiD1CTGXctt",
        "outputId": "ee37c7b3-6aa3-462f-c427-d017c0719c93",
        "colab": {
          "base_uri": "https://localhost:8080/"
        }
      },
      "execution_count": 183,
      "outputs": [
        {
          "output_type": "stream",
          "name": "stdout",
          "text": [
            "My parents are owner of my house\n",
            "Working in Company\n",
            "My parents are owner of my house\n",
            "He was Enjoing his life\n"
          ]
        }
      ]
    },
    {
      "cell_type": "code",
      "source": [
        "# Hybrid Inheritance\n",
        "class Grand_Parents :\n",
        "  def owner(self):\n",
        "    print(\"My parents are owner of my house\")\n",
        "class Parent1(Grand_Parents):\n",
        "  def Work(self):\n",
        "    print(\"Working in Company\")\n",
        "class Parent2(Grand_Parents):\n",
        "  def Enjoy(self):\n",
        "    print(\"He was Enjoing his life\")\n",
        "class Child(Parent1,Parent2):\n",
        "  def funny(self):\n",
        "    print(\"His life was funny\")\n",
        "obj = Child()\n",
        "obj.owner()\n",
        "obj.Work()\n",
        "obj.Enjoy()\n",
        "obj.funny()\n"
      ],
      "metadata": {
        "id": "Q5tviAUxe2lI",
        "outputId": "b2a2005a-f8a4-4164-e286-d6ece9d34c14",
        "colab": {
          "base_uri": "https://localhost:8080/"
        }
      },
      "execution_count": 185,
      "outputs": [
        {
          "output_type": "stream",
          "name": "stdout",
          "text": [
            "My parents are owner of my house\n",
            "Working in Company\n",
            "He was Enjoing his life\n",
            "His life was funny\n"
          ]
        }
      ]
    }
  ]
}