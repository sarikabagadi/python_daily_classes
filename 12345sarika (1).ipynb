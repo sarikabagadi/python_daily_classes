{
  "nbformat": 4,
  "nbformat_minor": 0,
  "metadata": {
    "colab": {
      "provenance": []
    },
    "kernelspec": {
      "name": "python3",
      "display_name": "Python 3"
    },
    "language_info": {
      "name": "python"
    }
  },
  "cells": [
    {
      "cell_type": "code",
      "source": [
        "\n",
        "numbers = [10,25,7,99,56]\n",
        "lar = numbers[0]\n",
        "for i in numbers :\n",
        "    if i > lar :\n",
        "      lar = i\n",
        "print (lar,\"is a largest number in this list\")\n",
        "\n"
      ],
      "metadata": {
        "colab": {
          "base_uri": "https://localhost:8080/"
        },
        "id": "nDm_5MRRBkKg",
        "outputId": "50fc75c5-22ff-480b-9140-84ac6659ccfb"
      },
      "execution_count": 39,
      "outputs": [
        {
          "output_type": "stream",
          "name": "stdout",
          "text": [
            "99 is a largest number in this list\n"
          ]
        }
      ]
    },
    {
      "cell_type": "code",
      "source": [
        "pai = 3.14\n",
        "radious = 4\n",
        "area = pai * radious * radious\n",
        "print(area)"
      ],
      "metadata": {
        "colab": {
          "base_uri": "https://localhost:8080/"
        },
        "id": "0KRMEFZrB7VP",
        "outputId": "24d0acd7-b794-42b0-93a3-f87d9dc6f2f5"
      },
      "execution_count": 1,
      "outputs": [
        {
          "output_type": "stream",
          "name": "stdout",
          "text": [
            "50.24\n"
          ]
        }
      ]
    },
    {
      "cell_type": "code",
      "source": [
        "base = 4\n",
        "height = 5\n",
        "area = 0.5 * base * height\n",
        "print(area)"
      ],
      "metadata": {
        "colab": {
          "base_uri": "https://localhost:8080/"
        },
        "id": "pSjMqQ3wCNdI",
        "outputId": "b2fbe1b2-72fe-453e-e331-f19d83547b99"
      },
      "execution_count": 2,
      "outputs": [
        {
          "output_type": "stream",
          "name": "stdout",
          "text": [
            "10.0\n"
          ]
        }
      ]
    },
    {
      "cell_type": "code",
      "source": [
        "sentence = \"kle bk bca college in chikkodi\"\n",
        "count = 0\n",
        "for ch in sentence:\n",
        "    if ch == 'e':\n",
        "        count = count + 1\n",
        "print(count)"
      ],
      "metadata": {
        "colab": {
          "base_uri": "https://localhost:8080/"
        },
        "id": "grriPeMzCTS3",
        "outputId": "0bdf61d1-a440-4019-c814-15cd74295614"
      },
      "execution_count": 3,
      "outputs": [
        {
          "output_type": "stream",
          "name": "stdout",
          "text": [
            "3\n"
          ]
        }
      ]
    },
    {
      "cell_type": "code",
      "source": [
        "#  \"Bachelor of computer science frist semester section c\"\n",
        "sentence = \"Bachelor of computer science frist semester section c\"\n",
        "count = 0\n",
        "for ch in sentence:\n",
        "    if ch == 'e':\n",
        "        count = count + 1\n",
        "print(count)"
      ],
      "metadata": {
        "colab": {
          "base_uri": "https://localhost:8080/"
        },
        "id": "9beBYQm0HURf",
        "outputId": "9e0fec23-3182-40ef-856f-126e39311f99"
      },
      "execution_count": 41,
      "outputs": [
        {
          "output_type": "stream",
          "name": "stdout",
          "text": [
            "8\n"
          ]
        }
      ]
    },
    {
      "cell_type": "code",
      "source": [
        "# \"Bachular of computer science first semister section c\"\n",
        "sentence = \"Bachular of computer science first semister section c\"\n",
        "count = 0\n",
        "for ch in sentence:\n",
        "    if ch not in \"a e i o u\":\n",
        "      count+=1\n",
        "print(\"total consonents is :\",count)"
      ],
      "metadata": {
        "colab": {
          "base_uri": "https://localhost:8080/"
        },
        "id": "R26fC0B5IGvo",
        "outputId": "fb8c459c-a520-4550-c91f-852d5591b80a"
      },
      "execution_count": 46,
      "outputs": [
        {
          "output_type": "stream",
          "name": "stdout",
          "text": [
            "total consonents is : 29\n"
          ]
        }
      ]
    },
    {
      "cell_type": "code",
      "source": [
        "bikes = [\"RX 100\",\"GT 650\",\"Ninja\",\"Splender\",\"Bajaj\",\"Pulser\",\"NS 200\",\"M 80\",\"unicorn\"]\n",
        "for bike in bikes :\n",
        "  if bike == \"NS 200\":\n",
        "    break\n",
        "  print(bike)"
      ],
      "metadata": {
        "colab": {
          "base_uri": "https://localhost:8080/"
        },
        "id": "5_Slng4baQAe",
        "outputId": "c738ae5d-57f0-47a3-f20d-b738816ac060"
      },
      "execution_count": 52,
      "outputs": [
        {
          "output_type": "stream",
          "name": "stdout",
          "text": [
            "RX 100\n",
            "GT 650\n",
            "Ninja\n",
            "Splender\n",
            "Bajaj\n",
            "Pulser\n"
          ]
        }
      ]
    },
    {
      "cell_type": "code",
      "source": [
        "colour = {\"purple\",\"Pink\",\"Black\",\"White\",\"Red\",\"Orange\",\"levender\",\"Gray\",\"Yellow\",\"Maroon\" }\n",
        "for colur in colour :\n",
        "  if colour == \"Black\":\n",
        "    break\n",
        "  print(colour)"
      ],
      "metadata": {
        "colab": {
          "base_uri": "https://localhost:8080/"
        },
        "id": "9KKUrWsdccC-",
        "outputId": "17187f79-ada8-4a86-ab63-f59fb0c22c0f"
      },
      "execution_count": 54,
      "outputs": [
        {
          "output_type": "stream",
          "name": "stdout",
          "text": [
            "{'Pink', 'Black', 'Orange', 'White', 'Gray', 'levender', 'purple', 'Red', 'Maroon', 'Yellow'}\n",
            "{'Pink', 'Black', 'Orange', 'White', 'Gray', 'levender', 'purple', 'Red', 'Maroon', 'Yellow'}\n",
            "{'Pink', 'Black', 'Orange', 'White', 'Gray', 'levender', 'purple', 'Red', 'Maroon', 'Yellow'}\n",
            "{'Pink', 'Black', 'Orange', 'White', 'Gray', 'levender', 'purple', 'Red', 'Maroon', 'Yellow'}\n",
            "{'Pink', 'Black', 'Orange', 'White', 'Gray', 'levender', 'purple', 'Red', 'Maroon', 'Yellow'}\n",
            "{'Pink', 'Black', 'Orange', 'White', 'Gray', 'levender', 'purple', 'Red', 'Maroon', 'Yellow'}\n",
            "{'Pink', 'Black', 'Orange', 'White', 'Gray', 'levender', 'purple', 'Red', 'Maroon', 'Yellow'}\n",
            "{'Pink', 'Black', 'Orange', 'White', 'Gray', 'levender', 'purple', 'Red', 'Maroon', 'Yellow'}\n",
            "{'Pink', 'Black', 'Orange', 'White', 'Gray', 'levender', 'purple', 'Red', 'Maroon', 'Yellow'}\n",
            "{'Pink', 'Black', 'Orange', 'White', 'Gray', 'levender', 'purple', 'Red', 'Maroon', 'Yellow'}\n"
          ]
        }
      ]
    },
    {
      "cell_type": "code",
      "source": [
        "fruits = (\"Apple\",\"Orange\",\"Mango\",\"Strowberry\",\"Dragon fruit\",\"Greeps\",\"Banana\",\"Pinaple\",\"Pappaya\",\"Wter melon\")\n",
        "for fruits in fruits :\n",
        "  if fruits == \"greeps\":\n",
        "    continue\n",
        "  print(fruits)"
      ],
      "metadata": {
        "colab": {
          "base_uri": "https://localhost:8080/"
        },
        "id": "OrUxr7GOeIlu",
        "outputId": "83b286e5-9a66-4059-8e3d-751a700dc870"
      },
      "execution_count": 59,
      "outputs": [
        {
          "output_type": "stream",
          "name": "stdout",
          "text": [
            "Apple\n",
            "Orange\n",
            "Mango\n",
            "Strowberry\n",
            "Dragon fruit\n",
            "Greeps\n",
            "Banana\n",
            "Pinaple\n",
            "Pappaya\n",
            "Wter melon\n"
          ]
        }
      ]
    },
    {
      "cell_type": "code",
      "source": [
        " mobiles = [\"vivo\",\"Redmi\",\"Oppo\",\"Vivoi\",\"Vivo\",\"Vivo\",\"Oppo\",\"Iqee\",\"vivo\",\"One plus\"]\n",
        " for mobile in mobiles:\n",
        "    if mobile == \"Vivo\":\n",
        "       break\n",
        "    print(mobile)\n",
        ""
      ],
      "metadata": {
        "colab": {
          "base_uri": "https://localhost:8080/"
        },
        "id": "9e_NpZyfaPxG",
        "outputId": "d2b3de18-462c-4d75-964f-233b3ae0739f"
      },
      "execution_count": 79,
      "outputs": [
        {
          "output_type": "stream",
          "name": "stdout",
          "text": [
            "vivo\n",
            "Redmi\n",
            "Oppo\n",
            "Vivoi\n"
          ]
        }
      ]
    },
    {
      "cell_type": "code",
      "source": [
        "mobiles = {\"vivo\",\"Redmi\",\"Oppo\",\"Vivoi\",\"Vivo\",\"Vivo\",\"Oppo\",\"Iqee\",\"vivo\",\"One plus\"}\n",
        "for mobile in mobiles:\n",
        "    if mobile == \"Vivo\":\n",
        "       continue\n",
        "    print(mobile)\n",
        ""
      ],
      "metadata": {
        "colab": {
          "base_uri": "https://localhost:8080/"
        },
        "id": "SuWTOwJTjDu-",
        "outputId": "513be639-18cb-4ef3-967e-e86b75f7f1db"
      },
      "execution_count": 76,
      "outputs": [
        {
          "output_type": "stream",
          "name": "stdout",
          "text": [
            "Oppo\n",
            "Redmi\n",
            "One plus\n",
            "vivo\n",
            "Vivoi\n",
            "Iqee\n"
          ]
        }
      ]
    },
    {
      "cell_type": "code",
      "source": [
        "movies = [\"KGF\",\"Chhava\",\"bahubali\",\"saiyara\",\"RRR\",\"Klki\",\"Kannadakkagi Ondannu Otti\"]\n",
        "for movie in movies :\n",
        "    if movies == \"Trance\" :\n",
        "       pass\n",
        "    print(movie)\n",
        ""
      ],
      "metadata": {
        "colab": {
          "base_uri": "https://localhost:8080/"
        },
        "id": "gHKv2TWwkF32",
        "outputId": "249fd113-bd68-4130-c69f-5d2b674acd48"
      },
      "execution_count": 81,
      "outputs": [
        {
          "output_type": "stream",
          "name": "stdout",
          "text": [
            "KGF\n",
            "Chhava\n",
            "bahubali\n",
            "saiyara\n",
            "RRR\n",
            "Klki\n",
            "Kannadakkagi Ondannu Otti\n"
          ]
        }
      ]
    },
    {
      "cell_type": "code",
      "source": [
        "movies = [\"KGF\",\"Chhava\",\"bahubali\",\"saiyara\",\"RRR\",\"Klki\",\"Kannadakkagi Ondannu Otti\"]\n",
        "for movie in movies :\n",
        "    if movies == \"Trance\" :\n",
        "       continue\n",
        "    print(movie)\n",
        ""
      ],
      "metadata": {
        "colab": {
          "base_uri": "https://localhost:8080/"
        },
        "id": "s5V1WPX3lPFG",
        "outputId": "52831cda-537d-4591-e75f-330d8ff86b49"
      },
      "execution_count": 82,
      "outputs": [
        {
          "output_type": "stream",
          "name": "stdout",
          "text": [
            "KGF\n",
            "Chhava\n",
            "bahubali\n",
            "saiyara\n",
            "RRR\n",
            "Klki\n",
            "Kannadakkagi Ondannu Otti\n"
          ]
        }
      ]
    },
    {
      "cell_type": "code",
      "source": [
        "movies = [\"KGF\",\"Chhava\",\"bahubali\",\"saiyara\",\"RRR\",\"Klki\",\"Kannadakkagi Ondannu Otti\"]\n",
        "for movie in movies :\n",
        "    if movies == \"RRR\" :\n",
        "       continue\n",
        "    print(movie)\n",
        ""
      ],
      "metadata": {
        "colab": {
          "base_uri": "https://localhost:8080/"
        },
        "id": "1dO3ZE1PlYaF",
        "outputId": "ecaf5a31-8f78-4c64-87ba-9fb577e82ba3"
      },
      "execution_count": 92,
      "outputs": [
        {
          "output_type": "stream",
          "name": "stdout",
          "text": [
            "KGF\n",
            "Chhava\n",
            "bahubali\n",
            "saiyara\n",
            "RRR\n",
            "Klki\n",
            "Kannadakkagi Ondannu Otti\n"
          ]
        }
      ]
    },
    {
      "cell_type": "code",
      "source": [
        "things = {\"Mobile\",\"Laptop\",\"Monitor\",\"tab\",\"Book\",\"pen\",\"Paper\"}\n",
        "for thing in things :\n",
        "    if things == \"Marker\":\n",
        "       pass\n",
        "    print(thing)\n",
        ""
      ],
      "metadata": {
        "colab": {
          "base_uri": "https://localhost:8080/"
        },
        "id": "AZr8xFbql0mW",
        "outputId": "e0943244-f1a4-4029-b07a-ce5ad18c79f8"
      },
      "execution_count": 93,
      "outputs": [
        {
          "output_type": "stream",
          "name": "stdout",
          "text": [
            "Monitor\n",
            "tab\n",
            "Laptop\n",
            "Paper\n",
            "Mobile\n",
            "Book\n",
            "pen\n"
          ]
        }
      ]
    },
    {
      "cell_type": "code",
      "source": [
        "things = {\"Mobile\",\"Laptop\",\"Monitor\",\"tab\",\"Book\",\"pen\",\"Paper\"}\n",
        "for thing in things :\n",
        "    if things == \"Marker\":\n",
        "       continue\n",
        "    print(thing)\n",
        ""
      ],
      "metadata": {
        "colab": {
          "base_uri": "https://localhost:8080/"
        },
        "id": "5hzqbV4Bmm6G",
        "outputId": "613f7151-5cb5-442d-a229-826b0d8e8198"
      },
      "execution_count": 94,
      "outputs": [
        {
          "output_type": "stream",
          "name": "stdout",
          "text": [
            "Monitor\n",
            "tab\n",
            "Laptop\n",
            "Paper\n",
            "Mobile\n",
            "Book\n",
            "pen\n"
          ]
        }
      ]
    },
    {
      "cell_type": "code",
      "source": [
        "things = {\"Mobile\",\"Laptop\",\"Monitor\",\"tab\",\"Book\",\"pen\",\"Paper\"}\n",
        "for thing in things :\n",
        "    if things == \"Marker\":\n",
        "       break\n",
        "    print(thing)\n",
        ""
      ],
      "metadata": {
        "colab": {
          "base_uri": "https://localhost:8080/"
        },
        "id": "mjn8R1hXmtGt",
        "outputId": "8d380b09-6b72-4f01-977f-a3023d224266"
      },
      "execution_count": 95,
      "outputs": [
        {
          "output_type": "stream",
          "name": "stdout",
          "text": [
            "Monitor\n",
            "tab\n",
            "Laptop\n",
            "Paper\n",
            "Mobile\n",
            "Book\n",
            "pen\n"
          ]
        }
      ]
    },
    {
      "cell_type": "code",
      "source": [
        "things = {\"Mobile\",\"Laptop\",\"Monitor\",\"tab\",\"Book\",\"pen\",\"Paper\"}\n",
        "for thing in things :\n",
        "     if things == \"Mobile\":\n",
        "         continue\n",
        "     print(thing)\n",
        ""
      ],
      "metadata": {
        "colab": {
          "base_uri": "https://localhost:8080/"
        },
        "id": "QKBHclbemx7N",
        "outputId": "f3d4e5a2-5500-4680-a898-aa24890449df"
      },
      "execution_count": 103,
      "outputs": [
        {
          "output_type": "stream",
          "name": "stdout",
          "text": [
            "Monitor\n",
            "tab\n",
            "Laptop\n",
            "Paper\n",
            "Mobile\n",
            "Book\n",
            "pen\n"
          ]
        }
      ]
    },
    {
      "cell_type": "code",
      "source": [
        "for i in range(5):\n",
        "  for j in range (5):\n",
        "     print(\"*\",end=\" \")\n",
        "  print()"
      ],
      "metadata": {
        "colab": {
          "base_uri": "https://localhost:8080/"
        },
        "id": "goVKLFMxnvOm",
        "outputId": "5f3c97de-a9e9-4568-aaac-6a25e7445247"
      },
      "execution_count": 104,
      "outputs": [
        {
          "output_type": "stream",
          "name": "stdout",
          "text": [
            "* * * * * \n",
            "* * * * * \n",
            "* * * * * \n",
            "* * * * * \n",
            "* * * * * \n"
          ]
        }
      ]
    },
    {
      "cell_type": "code",
      "source": [
        "for i in range(5):\n",
        "  for j in range (5):\n",
        "     print(\"1\",end=\" \")\n",
        "  print()"
      ],
      "metadata": {
        "colab": {
          "base_uri": "https://localhost:8080/"
        },
        "id": "2WDBCfmEqde_",
        "outputId": "ef66e55e-8d16-43b5-c744-9ca1689f5758"
      },
      "execution_count": 106,
      "outputs": [
        {
          "output_type": "stream",
          "name": "stdout",
          "text": [
            "1 1 1 1 1 \n",
            "1 1 1 1 1 \n",
            "1 1 1 1 1 \n",
            "1 1 1 1 1 \n",
            "1 1 1 1 1 \n"
          ]
        }
      ]
    },
    {
      "cell_type": "code",
      "source": [
        "for i in range(5):\n",
        "  for j in range (5):\n",
        "     print(\"a\",end=\" \")\n",
        "  print()"
      ],
      "metadata": {
        "colab": {
          "base_uri": "https://localhost:8080/"
        },
        "id": "uAcfJ9dVqsf1",
        "outputId": "fbc244b3-02c1-4fd4-fc80-138fd81b9336"
      },
      "execution_count": 107,
      "outputs": [
        {
          "output_type": "stream",
          "name": "stdout",
          "text": [
            "a a a a a \n",
            "a a a a a \n",
            "a a a a a \n",
            "a a a a a \n",
            "a a a a a \n"
          ]
        }
      ]
    },
    {
      "cell_type": "code",
      "source": [
        "for i in range(10):\n",
        "  for j in range (10):\n",
        "     print(j,end=\" \")\n",
        "  print()"
      ],
      "metadata": {
        "colab": {
          "base_uri": "https://localhost:8080/"
        },
        "id": "o3g6lP0Unu6f",
        "outputId": "d2ca220f-71cc-434d-bf4f-f1d3fc8ad678"
      },
      "execution_count": 113,
      "outputs": [
        {
          "output_type": "stream",
          "name": "stdout",
          "text": [
            "0 1 2 3 4 5 6 7 8 9 \n",
            "0 1 2 3 4 5 6 7 8 9 \n",
            "0 1 2 3 4 5 6 7 8 9 \n",
            "0 1 2 3 4 5 6 7 8 9 \n",
            "0 1 2 3 4 5 6 7 8 9 \n",
            "0 1 2 3 4 5 6 7 8 9 \n",
            "0 1 2 3 4 5 6 7 8 9 \n",
            "0 1 2 3 4 5 6 7 8 9 \n",
            "0 1 2 3 4 5 6 7 8 9 \n",
            "0 1 2 3 4 5 6 7 8 9 \n"
          ]
        }
      ]
    },
    {
      "cell_type": "code",
      "source": [
        "for i in range(1,10):\n",
        "  for j in range (i):\n",
        "     print(j,end=\" \")\n",
        "  print()"
      ],
      "metadata": {
        "colab": {
          "base_uri": "https://localhost:8080/"
        },
        "id": "__fNz-gzri8F",
        "outputId": "6c15b42d-b54f-4839-de72-65d49f86b80f"
      },
      "execution_count": 114,
      "outputs": [
        {
          "output_type": "stream",
          "name": "stdout",
          "text": [
            "0 \n",
            "0 1 \n",
            "0 1 2 \n",
            "0 1 2 3 \n",
            "0 1 2 3 4 \n",
            "0 1 2 3 4 5 \n",
            "0 1 2 3 4 5 6 \n",
            "0 1 2 3 4 5 6 7 \n",
            "0 1 2 3 4 5 6 7 8 \n"
          ]
        }
      ]
    },
    {
      "cell_type": "code",
      "source": [
        "for i in range(11,0,-1):\n",
        "   for j in range (j):\n",
        "      print(j,end=\" \")\n",
        "   print()"
      ],
      "metadata": {
        "colab": {
          "base_uri": "https://localhost:8080/"
        },
        "id": "4ZDDPoGQrxP-",
        "outputId": "1951a6e5-fa8d-4f55-f1f6-19ab0c16a28e"
      },
      "execution_count": 137,
      "outputs": [
        {
          "output_type": "stream",
          "name": "stdout",
          "text": [
            "\n",
            "\n",
            "\n",
            "\n",
            "\n",
            "\n",
            "\n",
            "\n",
            "\n",
            "\n",
            "\n"
          ]
        }
      ]
    },
    {
      "cell_type": "code",
      "source": [
        "for i in range(5):\n",
        "  for j in range(0,i,1):\n",
        "    print(j,end=\" \")\n",
        "  print()\n",
        "\n"
      ],
      "metadata": {
        "colab": {
          "base_uri": "https://localhost:8080/"
        },
        "id": "LqLHl2v5-PQN",
        "outputId": "6f70795f-ead9-414b-b363-2e05dfd6658c"
      },
      "execution_count": 138,
      "outputs": [
        {
          "output_type": "stream",
          "name": "stdout",
          "text": [
            "\n",
            "0 \n",
            "0 1 \n",
            "0 1 2 \n",
            "0 1 2 3 \n"
          ]
        }
      ]
    },
    {
      "cell_type": "code",
      "source": [
        "for i in range(8):\n",
        "  for j in range(0,i+1):\n",
        "    print(\" \",end=\" \")\n",
        "  for j in range(8):\n",
        "    print(\"@\",end=\" \")\n",
        "  print()\n"
      ],
      "metadata": {
        "colab": {
          "base_uri": "https://localhost:8080/"
        },
        "id": "-RvHe2zc-979",
        "outputId": "4d66c344-9a0b-4355-a6a5-2c8a3e8ac19c"
      },
      "execution_count": 163,
      "outputs": [
        {
          "output_type": "stream",
          "name": "stdout",
          "text": [
            "  @ @ @ @ @ @ @ @ \n",
            "    @ @ @ @ @ @ @ @ \n",
            "      @ @ @ @ @ @ @ @ \n",
            "        @ @ @ @ @ @ @ @ \n",
            "          @ @ @ @ @ @ @ @ \n",
            "            @ @ @ @ @ @ @ @ \n",
            "              @ @ @ @ @ @ @ @ \n",
            "                @ @ @ @ @ @ @ @ \n"
          ]
        }
      ]
    },
    {
      "cell_type": "code",
      "source": [
        "for i in range(8):\n",
        "  for j in range(0,i+1):\n",
        "    print(\" \",end=\" \")\n",
        "  for j in range(i,8):\n",
        "    print(\"#\",end=\" \")\n",
        "  print()\n"
      ],
      "metadata": {
        "colab": {
          "base_uri": "https://localhost:8080/"
        },
        "id": "q2UHNHGh_zak",
        "outputId": "8823bdac-e0ae-4add-c7a6-cbe975b51aeb"
      },
      "execution_count": 164,
      "outputs": [
        {
          "output_type": "stream",
          "name": "stdout",
          "text": [
            "  # # # # # # # # \n",
            "    # # # # # # # \n",
            "      # # # # # # \n",
            "        # # # # # \n",
            "          # # # # \n",
            "            # # # \n",
            "              # # \n",
            "                # \n"
          ]
        }
      ]
    },
    {
      "cell_type": "code",
      "source": [
        "for i in range(5):\n",
        "  for j in range(i+1,5):\n",
        "    print(\" \",end=\" \")\n",
        "  for j in range(5):\n",
        "    print(\"*\",end=\" \")\n",
        "  print()\n"
      ],
      "metadata": {
        "colab": {
          "base_uri": "https://localhost:8080/"
        },
        "id": "T1pWkTV2AERU",
        "outputId": "8df235f5-39cd-4666-8069-29b1013600c8"
      },
      "execution_count": 162,
      "outputs": [
        {
          "output_type": "stream",
          "name": "stdout",
          "text": [
            "        * * * * * \n",
            "      * * * * * \n",
            "    * * * * * \n",
            "  * * * * * \n",
            "* * * * * \n"
          ]
        }
      ]
    },
    {
      "cell_type": "code",
      "source": [
        "row = 5\n",
        "col = 5\n",
        "for i in range(0,row):\n",
        "  for j in range(0,col):\n",
        "    if i == 0 or j == 0 or i == row-1 or j == col-1:\n",
        "      print(\"$\",end=\" \")\n",
        "    else:\n",
        "      print(\" \",end =\" \")\n",
        "  print()"
      ],
      "metadata": {
        "colab": {
          "base_uri": "https://localhost:8080/"
        },
        "id": "J02KfjvpDKVF",
        "outputId": "f4974fdf-549d-4b6a-9e06-e4ae93465c58"
      },
      "execution_count": 174,
      "outputs": [
        {
          "output_type": "stream",
          "name": "stdout",
          "text": [
            "$ $ $ $ $ \n",
            "$       $ \n",
            "$       $ \n",
            "$       $ \n",
            "$ $ $ $ $ \n"
          ]
        }
      ]
    },
    {
      "cell_type": "code",
      "source": [
        "num = 7\n",
        "for i in range(0,num):\n",
        "  for j in range(0,num-i-1):\n",
        "    print(\" \",end=\" \")\n",
        "  for j in range(0,i*2+1):\n",
        "     print(chr(97 +j),end=\" \")\n",
        "  print()"
      ],
      "metadata": {
        "colab": {
          "base_uri": "https://localhost:8080/"
        },
        "id": "HAAcnCujG8-N",
        "outputId": "e4299eae-1de4-4ddd-f381-1475a4bb13f3"
      },
      "execution_count": 191,
      "outputs": [
        {
          "output_type": "stream",
          "name": "stdout",
          "text": [
            "            a \n",
            "          a b c \n",
            "        a b c d e \n",
            "      a b c d e f g \n",
            "    a b c d e f g h i \n",
            "  a b c d e f g h i j k \n",
            "a b c d e f g h i j k l m \n"
          ]
        }
      ]
    },
    {
      "cell_type": "code",
      "source": [
        "num = 7\n",
        "for i in range(0,num):\n",
        "  for j in range(0,num-i-1):\n",
        "    print(\" \",end=\" \")\n",
        "  for j in range(0,i*2+1):\n",
        "     print(chr(65 +j),end=\" \")\n",
        "  print()"
      ],
      "metadata": {
        "colab": {
          "base_uri": "https://localhost:8080/"
        },
        "id": "wfYD0_p9KMGz",
        "outputId": "4ff4ab3b-7f24-406b-9f41-c73377ead9d0"
      },
      "execution_count": 192,
      "outputs": [
        {
          "output_type": "stream",
          "name": "stdout",
          "text": [
            "            A \n",
            "          A B C \n",
            "        A B C D E \n",
            "      A B C D E F G \n",
            "    A B C D E F G H I \n",
            "  A B C D E F G H I J K \n",
            "A B C D E F G H I J K L M \n"
          ]
        }
      ]
    },
    {
      "cell_type": "code",
      "source": [
        "num = 7\n",
        "for i in range(0,num):\n",
        "  for j in range(0,num-i-1):\n",
        "    print(\" \",end=\" \")\n",
        "  for j in range(0,i*2+1):\n",
        "     print(\"*\",end=\" \")\n",
        "  print()"
      ],
      "metadata": {
        "colab": {
          "base_uri": "https://localhost:8080/"
        },
        "id": "M9DbylAhKT3s",
        "outputId": "e5f897b9-86e6-43c6-f4ec-66319f0fe2e6"
      },
      "execution_count": 193,
      "outputs": [
        {
          "output_type": "stream",
          "name": "stdout",
          "text": [
            "            * \n",
            "          * * * \n",
            "        * * * * * \n",
            "      * * * * * * * \n",
            "    * * * * * * * * * \n",
            "  * * * * * * * * * * * \n",
            "* * * * * * * * * * * * * \n"
          ]
        }
      ]
    },
    {
      "cell_type": "code",
      "source": [
        "num = 7\n",
        "for i in range(0,num):\n",
        "  for j in range(0,num-i-1):\n",
        "    print(\" \",end=\" \")\n",
        "  for j in range(0,i*2+1):\n",
        "     print(\"@\",end=\" \")\n",
        "  print()\n",
        "for i in range(0,num):\n",
        "  for j in range(0,(num-i)*2-1):\n",
        "     print(\" \",end=\" \")\n",
        "  print()"
      ],
      "metadata": {
        "colab": {
          "base_uri": "https://localhost:8080/"
        },
        "id": "Py73LFcEKaUj",
        "outputId": "8b4db2dd-135f-44e9-9b05-cd03f0c685b2"
      },
      "execution_count": 197,
      "outputs": [
        {
          "output_type": "stream",
          "name": "stdout",
          "text": [
            "            @ \n",
            "          @ @ @ \n",
            "        @ @ @ @ @ \n",
            "      @ @ @ @ @ @ @ \n",
            "    @ @ @ @ @ @ @ @ @ \n",
            "  @ @ @ @ @ @ @ @ @ @ @ \n",
            "@ @ @ @ @ @ @ @ @ @ @ @ @ \n",
            "                          \n",
            "                      \n",
            "                  \n",
            "              \n",
            "          \n",
            "      \n",
            "  \n"
          ]
        }
      ]
    },
    {
      "cell_type": "code",
      "source": [
        "def Example():\n",
        "  print(\"Good Afternoon\")\n",
        "Example()"
      ],
      "metadata": {
        "colab": {
          "base_uri": "https://localhost:8080/"
        },
        "id": "jqif_gg_RoKc",
        "outputId": "6770f361-494b-4ee4-e1fb-4c2852729e15"
      },
      "execution_count": 200,
      "outputs": [
        {
          "output_type": "stream",
          "name": "stdout",
          "text": [
            "Good Afternoon\n"
          ]
        }
      ]
    },
    {
      "cell_type": "code",
      "source": [
        "def fun(num):\n",
        "  return num*num\n",
        "print(fun(4))"
      ],
      "metadata": {
        "colab": {
          "base_uri": "https://localhost:8080/"
        },
        "id": "9uwTrJMkSG97",
        "outputId": "71939157-1674-49ad-da4c-5b42ca2ec53b"
      },
      "execution_count": 202,
      "outputs": [
        {
          "output_type": "stream",
          "name": "stdout",
          "text": [
            "16\n"
          ]
        }
      ]
    },
    {
      "cell_type": "code",
      "source": [
        "def add(a,b):\n",
        "  print(f'Addition of two is {a+b}')\n",
        "  add(5,10)\n",
        "\n"
      ],
      "metadata": {
        "id": "eBPzg5esUJ0l"
      },
      "execution_count": 207,
      "outputs": []
    },
    {
      "cell_type": "code",
      "source": [
        "items = [\"milk\", \"bread\",\"Eggs\"]\n",
        "print(\"-\".join(items))"
      ],
      "metadata": {
        "colab": {
          "base_uri": "https://localhost:8080/"
        },
        "id": "S0ojzT_FVnA0",
        "outputId": "d7fcd484-3c78-4fec-8afe-c00032321f0c"
      },
      "execution_count": 209,
      "outputs": [
        {
          "output_type": "stream",
          "name": "stdout",
          "text": [
            "milk-bread-Eggs\n"
          ]
        }
      ]
    },
    {
      "cell_type": "code",
      "source": [
        "def example(roll_number,name,section,department,college):\n",
        "  print(f\"My name is {name},i'm studying {department} in {college} college. My roll_number is {roll_number}and section is {section}\")\n",
        "example(101,\"pooja\",'A',\"BCA\",\"KLE\")"
      ],
      "metadata": {
        "colab": {
          "base_uri": "https://localhost:8080/"
        },
        "id": "p-CT5H5PYD1T",
        "outputId": "317e0fad-e79f-408a-ac2e-f97bc91215ac"
      },
      "execution_count": 221,
      "outputs": [
        {
          "output_type": "stream",
          "name": "stdout",
          "text": [
            "My name is pooja,i'm studying BCA in KLE college. My roll_number is 101and section is A\n"
          ]
        }
      ]
    },
    {
      "cell_type": "code",
      "source": [
        "def fun(name,game,time):\n",
        "  print(f\"I'm {name};i'm playing {game} at {time} time\")\n",
        "fun(time =\"evening\",name = \"sarika\",game = \"cricket\")"
      ],
      "metadata": {
        "colab": {
          "base_uri": "https://localhost:8080/"
        },
        "id": "m3S1KCHDcyaz",
        "outputId": "e653955d-a457-4af1-94f4-66ca8c197c41"
      },
      "execution_count": 224,
      "outputs": [
        {
          "output_type": "stream",
          "name": "stdout",
          "text": [
            "I'm sarika;i'm playing cricket at evening time\n"
          ]
        }
      ]
    },
    {
      "cell_type": "code",
      "source": [
        "def Laptop(name = \"lenovo\"):\n",
        "    print(\"My laptop name is :\",name)\n",
        "Laptop(\"Dell\")\n",
        "Laptop(\"HP\")\n",
        "Laptop()\n",
        "laptop(\"Asus\")"
      ],
      "metadata": {
        "colab": {
          "base_uri": "https://localhost:8080/"
        },
        "id": "aQMZP3sxeYEj",
        "outputId": "fb6074ce-8552-4564-e54e-e26c740eb910"
      },
      "execution_count": 227,
      "outputs": [
        {
          "output_type": "stream",
          "name": "stdout",
          "text": [
            "My laptop name is : Dell\n",
            "My laptop name is : HP\n",
            "My laptop name is : lenovo\n",
            "My laptop name is : Asus\n"
          ]
        }
      ]
    },
    {
      "cell_type": "markdown",
      "source": [],
      "metadata": {
        "id": "sKlgofPoeXur"
      }
    }
  ]
}