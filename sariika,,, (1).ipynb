{
  "nbformat": 4,
  "nbformat_minor": 0,
  "metadata": {
    "colab": {
      "provenance": []
    },
    "kernelspec": {
      "name": "python3",
      "display_name": "Python 3"
    },
    "language_info": {
      "name": "python"
    }
  },
  "cells": [
    {
      "cell_type": "code",
      "execution_count": 1,
      "metadata": {
        "colab": {
          "base_uri": "https://localhost:8080/",
          "height": 0
        },
        "id": "gOTKpVl9T97w",
        "outputId": "3d5c46f9-9fb1-48aa-c03b-5a39fa8ff8c9"
      },
      "outputs": [
        {
          "output_type": "stream",
          "name": "stdout",
          "text": [
            "<class 'str'>\n"
          ]
        }
      ],
      "source": [
        "print(type(str(100)))"
      ]
    },
    {
      "cell_type": "code",
      "source": [
        "Demo = 1\n",
        "print(type(Demo))\n",
        "\n",
        "print(type(bool(Demo)))\n",
        "\n"
      ],
      "metadata": {
        "colab": {
          "base_uri": "https://localhost:8080/"
        },
        "id": "yNGMQFpRUtDm",
        "outputId": "3fe5ed3f-a0ec-485c-f1c7-0bdeb6ae873c"
      },
      "execution_count": 5,
      "outputs": [
        {
          "output_type": "stream",
          "name": "stdout",
          "text": [
            "<class 'int'>\n",
            "<class 'bool'>\n"
          ]
        }
      ]
    },
    {
      "cell_type": "code",
      "source": [
        "a = 2.3\n",
        "print(type(a))\n",
        "print(type(bool(a)))"
      ],
      "metadata": {
        "colab": {
          "base_uri": "https://localhost:8080/"
        },
        "id": "eWmyzvjQWL6O",
        "outputId": "10654d55-1369-4aff-da12-377e610d5f49"
      },
      "execution_count": 7,
      "outputs": [
        {
          "output_type": "stream",
          "name": "stdout",
          "text": [
            "<class 'float'>\n",
            "<class 'bool'>\n"
          ]
        }
      ]
    },
    {
      "cell_type": "code",
      "source": [
        "Ex = False\n",
        "print(type(Ex))\n",
        "print(type(str(Ex)))"
      ],
      "metadata": {
        "colab": {
          "base_uri": "https://localhost:8080/"
        },
        "id": "S0URcNyPWdLm",
        "outputId": "7601759b-16b0-4834-faba-c4edf84c5fb4"
      },
      "execution_count": 15,
      "outputs": [
        {
          "output_type": "stream",
          "name": "stdout",
          "text": [
            "<class 'bool'>\n",
            "<class 'str'>\n"
          ]
        }
      ]
    },
    {
      "cell_type": "code",
      "source": [
        "d = \"56\"\n",
        "print(type(d))\n",
        "print(type(float(d)))"
      ],
      "metadata": {
        "colab": {
          "base_uri": "https://localhost:8080/"
        },
        "id": "AetXLCXDaNl9",
        "outputId": "fefd6650-a99e-494c-e939-b44583717747"
      },
      "execution_count": 23,
      "outputs": [
        {
          "output_type": "stream",
          "name": "stdout",
          "text": [
            "<class 'str'>\n",
            "<class 'float'>\n"
          ]
        }
      ]
    },
    {
      "cell_type": "code",
      "source": [
        "A = [65]\n",
        "print(type(A))\n",
        "print(type(str(A)))"
      ],
      "metadata": {
        "colab": {
          "base_uri": "https://localhost:8080/"
        },
        "id": "xOM4WFZKa6XW",
        "outputId": "3ec5ca36-9558-4ad6-ada7-99e597f4b29f"
      },
      "execution_count": 25,
      "outputs": [
        {
          "output_type": "stream",
          "name": "stdout",
          "text": [
            "<class 'list'>\n",
            "<class 'str'>\n"
          ]
        }
      ]
    },
    {
      "cell_type": "code",
      "source": [
        "A = (1,2,3)\n",
        "print(type(A))\n",
        "print(type(list(A)))"
      ],
      "metadata": {
        "colab": {
          "base_uri": "https://localhost:8080/"
        },
        "id": "hKIuKerIbY0V",
        "outputId": "4035906f-b6a4-4f6a-86c4-74d5f98e8a09"
      },
      "execution_count": 27,
      "outputs": [
        {
          "output_type": "stream",
          "name": "stdout",
          "text": [
            "<class 'tuple'>\n",
            "<class 'list'>\n"
          ]
        }
      ]
    },
    {
      "cell_type": "code",
      "source": [
        "A = {1,2,3}\n",
        "print(type(A))\n",
        "print(type(list(A)))"
      ],
      "metadata": {
        "colab": {
          "base_uri": "https://localhost:8080/"
        },
        "id": "uyQasBQPa6JN",
        "outputId": "72de56c0-fe2f-42ca-e655-8458e1336fdc"
      },
      "execution_count": 30,
      "outputs": [
        {
          "output_type": "stream",
          "name": "stdout",
          "text": [
            "<class 'set'>\n",
            "<class 'list'>\n"
          ]
        }
      ]
    },
    {
      "cell_type": "code",
      "source": [
        "F = {'pooja': '12'}\n",
        "print(type(F))\n",
        "print(type(list(F)))"
      ],
      "metadata": {
        "colab": {
          "base_uri": "https://localhost:8080/"
        },
        "id": "a9QF8msucvvG",
        "outputId": "50c3b60e-2c03-42dd-b537-e9adcd907fe5"
      },
      "execution_count": 32,
      "outputs": [
        {
          "output_type": "stream",
          "name": "stdout",
          "text": [
            "<class 'dict'>\n",
            "<class 'list'>\n"
          ]
        }
      ]
    },
    {
      "cell_type": "code",
      "source": [
        "a = \"12\"\n",
        "print(type(a))\n",
        "print(type(tuple(a)))"
      ],
      "metadata": {
        "colab": {
          "base_uri": "https://localhost:8080/"
        },
        "id": "nVShY3TAdf5t",
        "outputId": "89b3233e-a4bf-4052-d2cd-bea684ed6bc5"
      },
      "execution_count": 38,
      "outputs": [
        {
          "output_type": "stream",
          "name": "stdout",
          "text": [
            "<class 'str'>\n",
            "<class 'tuple'>\n"
          ]
        }
      ]
    },
    {
      "cell_type": "code",
      "source": [
        "a = [123]\n",
        "print(type(a))\n",
        "print(type(tuple(a)))"
      ],
      "metadata": {
        "colab": {
          "base_uri": "https://localhost:8080/"
        },
        "id": "CmOvveObfagO",
        "outputId": "a94d1c66-f361-47c0-aba9-064818a2215d"
      },
      "execution_count": 40,
      "outputs": [
        {
          "output_type": "stream",
          "name": "stdout",
          "text": [
            "<class 'list'>\n",
            "<class 'tuple'>\n"
          ]
        }
      ]
    },
    {
      "cell_type": "code",
      "source": [
        "a = {1,2,3}\n",
        "print(type(a))\n",
        "print(type(tuple(a)))"
      ],
      "metadata": {
        "colab": {
          "base_uri": "https://localhost:8080/"
        },
        "id": "fFayws6-c0zu",
        "outputId": "be75bc07-9b02-41d8-efa7-06b06ad718f1"
      },
      "execution_count": 41,
      "outputs": [
        {
          "output_type": "stream",
          "name": "stdout",
          "text": [
            "<class 'set'>\n",
            "<class 'tuple'>\n"
          ]
        }
      ]
    },
    {
      "cell_type": "code",
      "source": [
        " a ={\"sarika\": 23}\n",
        " print(type(a))\n",
        " print(type(tuple(a)))"
      ],
      "metadata": {
        "colab": {
          "base_uri": "https://localhost:8080/"
        },
        "id": "ltXf3UimgFme",
        "outputId": "880ec97b-ae78-4ebc-87c4-cd459998f982"
      },
      "execution_count": 43,
      "outputs": [
        {
          "output_type": "stream",
          "name": "stdout",
          "text": [
            "<class 'dict'>\n",
            "<class 'tuple'>\n"
          ]
        }
      ]
    },
    {
      "cell_type": "code",
      "source": [
        "a = {\"sarika\": 32}\n",
        "print(type(a))\n",
        "print(type(set(a)))"
      ],
      "metadata": {
        "colab": {
          "base_uri": "https://localhost:8080/"
        },
        "id": "Nbsvlo3QcBue",
        "outputId": "43e618e8-c61a-4cf9-8795-80bf3230cb46"
      },
      "execution_count": 48,
      "outputs": [
        {
          "output_type": "stream",
          "name": "stdout",
          "text": [
            "<class 'dict'>\n",
            "<class 'set'>\n"
          ]
        }
      ]
    },
    {
      "cell_type": "code",
      "source": [
        "a = {}\n",
        "print(type(a))\n",
        "print(type(list(a)))"
      ],
      "metadata": {
        "colab": {
          "base_uri": "https://localhost:8080/"
        },
        "id": "B9-OQmBjg8i1",
        "outputId": "ccdba218-3c92-421a-e155-cf15eb2ff0aa"
      },
      "execution_count": 50,
      "outputs": [
        {
          "output_type": "stream",
          "name": "stdout",
          "text": [
            "<class 'dict'>\n",
            "<class 'list'>\n"
          ]
        }
      ]
    },
    {
      "cell_type": "code",
      "source": [
        " a = {}\n",
        "print(type(a))\n",
        "print(type(str(a)))"
      ],
      "metadata": {
        "colab": {
          "base_uri": "https://localhost:8080/"
        },
        "id": "3rCZKo8-hf1O",
        "outputId": "a0c073ac-c560-49f0-edcf-9e0131a3686f"
      },
      "execution_count": 52,
      "outputs": [
        {
          "output_type": "stream",
          "name": "stdout",
          "text": [
            "<class 'dict'>\n",
            "<class 'str'>\n"
          ]
        }
      ]
    },
    {
      "cell_type": "code",
      "source": [
        "a  = {}\n",
        "print(type(a))\n",
        "print(type(tuple(a)))"
      ],
      "metadata": {
        "colab": {
          "base_uri": "https://localhost:8080/"
        },
        "id": "EyB99G5HhnPm",
        "outputId": "9a4a6d85-c273-4c4a-e1a4-9472e04ddaa9"
      },
      "execution_count": 53,
      "outputs": [
        {
          "output_type": "stream",
          "name": "stdout",
          "text": [
            "<class 'dict'>\n",
            "<class 'tuple'>\n"
          ]
        }
      ]
    },
    {
      "cell_type": "code",
      "source": [
        "A = ((\"name\", \"pooja\"),(\"age\",34))\n",
        "print(type(A))\n",
        "print(type(dict(A)))"
      ],
      "metadata": {
        "colab": {
          "base_uri": "https://localhost:8080/"
        },
        "id": "4pUaXcKNhuuG",
        "outputId": "4d374897-0ef8-4294-c9cd-423934eda583"
      },
      "execution_count": 78,
      "outputs": [
        {
          "output_type": "stream",
          "name": "stdout",
          "text": [
            "<class 'tuple'>\n",
            "<class 'dict'>\n"
          ]
        }
      ]
    },
    {
      "cell_type": "code",
      "source": [
        "I/p  a = 10, b = 20\n",
        "O/p  a = 20, b = 10\n",
        "\n",
        "A = 10\n",
        "B = 10\n",
        "print(\"before swapping\")\n",
        "print(\"A =\",A, \"B =\",B)\n",
        "print(\"after swapping\")\n",
        "temp = A\n",
        "A = B\n",
        "B = temp\n",
        "print(\"A = \",A,\"B =\",B)"
      ],
      "metadata": {
        "colab": {
          "base_uri": "https://localhost:8080/",
          "height": 106
        },
        "id": "hGn089j7c3Dd",
        "outputId": "90799159-038d-46b3-c876-0886ae8efcbb"
      },
      "execution_count": 81,
      "outputs": [
        {
          "output_type": "error",
          "ename": "SyntaxError",
          "evalue": "invalid syntax (ipython-input-4064107274.py, line 1)",
          "traceback": [
            "\u001b[0;36m  File \u001b[0;32m\"/tmp/ipython-input-4064107274.py\"\u001b[0;36m, line \u001b[0;32m1\u001b[0m\n\u001b[0;31m    I/p  a = 10, b = 20\u001b[0m\n\u001b[0m         ^\u001b[0m\n\u001b[0;31mSyntaxError\u001b[0m\u001b[0;31m:\u001b[0m invalid syntax\n"
          ]
        }
      ]
    },
    {
      "cell_type": "code",
      "source": [],
      "metadata": {
        "id": "jGED2P0BpvQ3"
      },
      "execution_count": null,
      "outputs": []
    }
  ]
}