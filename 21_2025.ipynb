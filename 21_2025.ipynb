{
  "nbformat": 4,
  "nbformat_minor": 0,
  "metadata": {
    "colab": {
      "provenance": []
    },
    "kernelspec": {
      "name": "python3",
      "display_name": "Python 3"
    },
    "language_info": {
      "name": "python"
    }
  },
  "cells": [
    {
      "cell_type": "code",
      "source": [
        "!pip install numpy"
      ],
      "metadata": {
        "colab": {
          "base_uri": "https://localhost:8080/"
        },
        "id": "CGwc8d-0dlwQ",
        "outputId": "5c7b6b5a-1a3e-44a5-9f23-93c592fccf03"
      },
      "execution_count": 3,
      "outputs": [
        {
          "output_type": "stream",
          "name": "stdout",
          "text": [
            "Requirement already satisfied: numpy in /usr/local/lib/python3.12/dist-packages (2.0.2)\n"
          ]
        }
      ]
    },
    {
      "cell_type": "code",
      "source": [
        "import numpy as sarika\n",
        "arr = sarika.array([1, 2, 3, 4, 5])\n",
        "print(\"NumPy Array:\",arr)"
      ],
      "metadata": {
        "colab": {
          "base_uri": "https://localhost:8080/"
        },
        "id": "f1bvQylxgVTn",
        "outputId": "584a6a0f-5ecd-4d74-a68a-75c369a92c10"
      },
      "execution_count": 5,
      "outputs": [
        {
          "output_type": "stream",
          "name": "stdout",
          "text": [
            "NumPy Array: [1 2 3 4 5]\n"
          ]
        }
      ]
    },
    {
      "cell_type": "code",
      "source": [
        "import numpy as np\n",
        "zeros = np.zeros(5)\n",
        "ones = np.ones(5)\n",
        "print(\"zeros:\",zeros)\n",
        "print(\"ones\",ones)"
      ],
      "metadata": {
        "colab": {
          "base_uri": "https://localhost:8080/"
        },
        "id": "IaVBXFLnhqQO",
        "outputId": "9bb15f05-9c17-4360-b7f7-2390e152e2d3"
      },
      "execution_count": 7,
      "outputs": [
        {
          "output_type": "stream",
          "name": "stdout",
          "text": [
            "zeros: [0. 0. 0. 0. 0.]\n",
            "ones [1. 1. 1. 1. 1.]\n"
          ]
        }
      ]
    },
    {
      "cell_type": "code",
      "source": [
        "import numpy as np\n",
        "a = np.array([10, 20, 30])\n",
        "b = np.array([1, 2, 3])\n",
        "print(\"Addition:\", a+b)\n",
        "print(\"multiplication\", a*b)"
      ],
      "metadata": {
        "colab": {
          "base_uri": "https://localhost:8080/"
        },
        "id": "Ashsoa5QjXLg",
        "outputId": "081f5f2f-c2e2-4f07-b76e-b14244369a25"
      },
      "execution_count": 8,
      "outputs": [
        {
          "output_type": "stream",
          "name": "stdout",
          "text": [
            "Addition: [11 22 33]\n",
            "multiplication [10 40 90]\n"
          ]
        }
      ]
    },
    {
      "cell_type": "code",
      "source": [
        "import numpy as np\n",
        "arr = np.array([1, 4, 9, 16])\n",
        "print(\"square Root:\", np.sqrt(arr))\n",
        "print(\"mean:\",np.mean(arr))"
      ],
      "metadata": {
        "colab": {
          "base_uri": "https://localhost:8080/"
        },
        "id": "hxn0jiATkX2w",
        "outputId": "85f44686-d20a-4284-95b8-c1e24df225b2"
      },
      "execution_count": 9,
      "outputs": [
        {
          "output_type": "stream",
          "name": "stdout",
          "text": [
            "square Root: [1. 2. 3. 4.]\n",
            "mean: 7.5\n"
          ]
        }
      ]
    },
    {
      "cell_type": "code",
      "source": [
        "import numpy as np\n",
        "from scipy import stats\n",
        "data = np.array([2,4,6,8,10,12,16])\n",
        "mean = np.mean(data)\n",
        "print(\"mean value is :\",mean)\n",
        "median = np.median(data)\n",
        "print(\"median value is :\",median)\n",
        "Range = np.max(data) - np.min(data)\n",
        "print(\"range value is :\",Range)\n",
        "mode = stats.mode(data)\n",
        "print(\"mode value is :\",mode)"
      ],
      "metadata": {
        "colab": {
          "base_uri": "https://localhost:8080/"
        },
        "id": "gQ7Ho6J6lv8-",
        "outputId": "5a8fea63-38aa-40f4-da53-d622ed575495"
      },
      "execution_count": 14,
      "outputs": [
        {
          "output_type": "stream",
          "name": "stdout",
          "text": [
            "mean value is : 8.285714285714286\n",
            "median value is : 8.0\n",
            "range value is : 14\n",
            "mode value is : ModeResult(mode=np.int64(2), count=np.int64(1))\n"
          ]
        }
      ]
    },
    {
      "cell_type": "code",
      "source": [
        "import numpy as np\n",
        "matrix = np.array([[1,2],[3,4]])\n",
        "print(\"Matrix:\\n\",matrix)\n",
        "print(\"Transpose:\\n\",matrix.T)"
      ],
      "metadata": {
        "colab": {
          "base_uri": "https://localhost:8080/"
        },
        "id": "4qjMgZY6m1y3",
        "outputId": "63bfcc8d-1ceb-4c8e-f79a-744b2c5b1a4e"
      },
      "execution_count": 18,
      "outputs": [
        {
          "output_type": "stream",
          "name": "stdout",
          "text": [
            "Matrix:\n",
            " [[1 2]\n",
            " [3 4]]\n",
            "Transpose:\n",
            " [[1 3]\n",
            " [2 4]]\n"
          ]
        }
      ]
    }
  ]
}