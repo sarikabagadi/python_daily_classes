{
  "nbformat": 4,
  "nbformat_minor": 0,
  "metadata": {
    "colab": {
      "provenance": []
    },
    "kernelspec": {
      "name": "python3",
      "display_name": "Python 3"
    },
    "language_info": {
      "name": "python"
    }
  },
  "cells": [
    {
      "cell_type": "code",
      "source": [
        "a,b,c = 10,20,30\n",
        "a > b and a > c\n"
      ],
      "metadata": {
        "colab": {
          "base_uri": "https://localhost:8080/"
        },
        "id": "-t4QMWiVXAKH",
        "outputId": "00d923ea-7c63-4666-f57f-0bed68308d9e"
      },
      "execution_count": 112,
      "outputs": [
        {
          "output_type": "execute_result",
          "data": {
            "text/plain": [
              "False"
            ]
          },
          "metadata": {},
          "execution_count": 112
        }
      ]
    },
    {
      "cell_type": "code",
      "source": [
        "num = int(input(\"Enter number value is :\"))\n",
        "if num >= 0 :\n",
        "  if num == 0 :\n",
        "       print(\"zero value\")\n",
        "  else :\n",
        "        print(\"positive number\")\n",
        "else :\n",
        "    print(\"nagative number\")"
      ],
      "metadata": {
        "colab": {
          "base_uri": "https://localhost:8080/"
        },
        "id": "0e9pXMz9cSLm",
        "outputId": "ec66e44f-c2d2-441c-ec98-d4d123997091"
      },
      "execution_count": 18,
      "outputs": [
        {
          "output_type": "stream",
          "name": "stdout",
          "text": [
            "Enter number value is :0\n",
            "zero value\n"
          ]
        }
      ]
    },
    {
      "cell_type": "code",
      "source": [
        "x, y = 10, 20\n",
        "option = input(\"enter your choice option :\")\n",
        "match option :\n",
        "  case '+' :\n",
        "     print(\"sum of values \", x + y)\n",
        "  case '*' :\n",
        "     print(\"multiplication of values \", x * y)\n",
        "  case '-' :\n",
        "     print(\"substraction of values \", x - y)\n",
        "  case '/' :\n",
        "     print(\" dinision of values \", x / y)\n",
        "  case '%' :\n",
        "     print(\"modulus of values \", x % y)\n",
        "  case '_' :\n",
        "     print(\"invalide opertor\")\n",
        "  case '!=' :\n",
        "     print(\"not equal of values \", x != y)"
      ],
      "metadata": {
        "colab": {
          "base_uri": "https://localhost:8080/"
        },
        "id": "4rqSRrzleJVe",
        "outputId": "58a11e2c-40fe-49c2-8f52-29384b45f60d"
      },
      "execution_count": 32,
      "outputs": [
        {
          "output_type": "stream",
          "name": "stdout",
          "text": [
            "enter your choice option :!=\n",
            "not equal of values  True\n"
          ]
        }
      ]
    },
    {
      "cell_type": "code",
      "source": [
        "day = int(input(\"enter a day :\"))\n",
        "match day :\n",
        "  case 1 :\n",
        "    print(\"monday\")\n",
        "  case 2 :\n",
        "    print(\"tuesday\")\n",
        "  case 3 :\n",
        "    print(\"wednesday\")\n",
        "  case 4 :\n",
        "    print(\"thursday\")\n",
        "  case 5 :\n",
        "    print(\"friday\")\n",
        "  case 6 :\n",
        "    print(\"saturday\")\n",
        "  case 7 :\n",
        "    print(\"sunday\")\n",
        "  case 8 :\n",
        "    print(\"inholiday\")\n",
        "\n"
      ],
      "metadata": {
        "colab": {
          "base_uri": "https://localhost:8080/"
        },
        "id": "B2TZcjSsl5NP",
        "outputId": "116742a6-b9a5-4b2a-d852-72c8170e9666"
      },
      "execution_count": 36,
      "outputs": [
        {
          "output_type": "stream",
          "name": "stdout",
          "text": [
            "enter a day :8\n",
            "inholiday\n"
          ]
        }
      ]
    },
    {
      "cell_type": "code",
      "source": [
        "month = int(input(\"ener a month :\"))\n",
        "match month :\n",
        "   case 1 :\n",
        "     print(\"january\")\n",
        "   case 2 :\n",
        "     print(\"februvary\")\n",
        "   case 3 :\n",
        "     print(\"march\")\n",
        "   case 4 :\n",
        "     print(\"april\")\n",
        "   case 5 :\n",
        "     print(\"may\")\n",
        "   case 6 :\n",
        "     print(\"june\")\n",
        "   case 7 :\n",
        "    print(\"july\")\n",
        "   case 8 :\n",
        "    print(\"august\")\n",
        "   case 9 :\n",
        "    print(\"september\")\n",
        "   case 10 :\n",
        "    print(\"actober\")\n",
        "   case 11 :\n",
        "    print(\"november\")\n",
        "   case 12 :\n",
        "    print(\"december\")\n",
        "\n",
        "\n",
        "\n",
        "\n"
      ],
      "metadata": {
        "colab": {
          "base_uri": "https://localhost:8080/"
        },
        "id": "ttY7DXxqpLcn",
        "outputId": "c73d2a22-3821-4ad5-fc39-a5fe8b5b9947"
      },
      "execution_count": 41,
      "outputs": [
        {
          "output_type": "stream",
          "name": "stdout",
          "text": [
            "ener a month :7\n",
            "july\n"
          ]
        }
      ]
    },
    {
      "cell_type": "code",
      "source": [
        "i = 1\n",
        "while i <= 60 :\n",
        "  print(i)\n",
        "  i +=1\n",
        "\n"
      ],
      "metadata": {
        "colab": {
          "base_uri": "https://localhost:8080/"
        },
        "id": "__Hz8AGsrH7X",
        "outputId": "17aa49fb-efdb-4cb9-c491-ec306ed7f996"
      },
      "execution_count": 42,
      "outputs": [
        {
          "output_type": "stream",
          "name": "stdout",
          "text": [
            "1\n",
            "2\n",
            "3\n",
            "4\n",
            "5\n",
            "6\n",
            "7\n",
            "8\n",
            "9\n",
            "10\n",
            "11\n",
            "12\n",
            "13\n",
            "14\n",
            "15\n",
            "16\n",
            "17\n",
            "18\n",
            "19\n",
            "20\n",
            "21\n",
            "22\n",
            "23\n",
            "24\n",
            "25\n",
            "26\n",
            "27\n",
            "28\n",
            "29\n",
            "30\n",
            "31\n",
            "32\n",
            "33\n",
            "34\n",
            "35\n",
            "36\n",
            "37\n",
            "38\n",
            "39\n",
            "40\n",
            "41\n",
            "42\n",
            "43\n",
            "44\n",
            "45\n",
            "46\n",
            "47\n",
            "48\n",
            "49\n",
            "50\n",
            "51\n",
            "52\n",
            "53\n",
            "54\n",
            "55\n",
            "56\n",
            "57\n",
            "58\n",
            "59\n",
            "60\n"
          ]
        }
      ]
    },
    {
      "cell_type": "code",
      "source": [
        "\n",
        " i = 1\n",
        "while i <= 60 :\n",
        "  print(i,end=\" \")\n",
        "  i +=1\n",
        ""
      ],
      "metadata": {
        "colab": {
          "base_uri": "https://localhost:8080/"
        },
        "id": "3N6BczI8tpsn",
        "outputId": "c239c7af-7f06-43b7-a939-6a5a83d4a702"
      },
      "execution_count": 43,
      "outputs": [
        {
          "output_type": "stream",
          "name": "stdout",
          "text": [
            "1 2 3 4 5 6 7 8 9 10 11 12 13 14 15 16 17 18 19 20 21 22 23 24 25 26 27 28 29 30 31 32 33 34 35 36 37 38 39 40 41 42 43 44 45 46 47 48 49 50 51 52 53 54 55 56 57 58 59 60 "
          ]
        }
      ]
    },
    {
      "cell_type": "code",
      "source": [
        "i = 1\n",
        "add = 0\n",
        "while i <= 10 :\n",
        "  add =add +i\n",
        "  i = i+1\n",
        "  print(add)"
      ],
      "metadata": {
        "colab": {
          "base_uri": "https://localhost:8080/"
        },
        "id": "1MEjRP6QtpfP",
        "outputId": "2151ebe6-73e3-40d8-cf61-29348b5797f5"
      },
      "execution_count": 45,
      "outputs": [
        {
          "output_type": "stream",
          "name": "stdout",
          "text": [
            "1\n",
            "3\n",
            "6\n",
            "10\n",
            "15\n",
            "21\n",
            "28\n",
            "36\n",
            "45\n",
            "55\n"
          ]
        }
      ]
    },
    {
      "cell_type": "code",
      "source": [
        "number = 0\n",
        "while number != 5 :\n",
        "  number = number + 5\n",
        "  print(\"the number is\",number)\n",
        "  print(\"out of loop\")"
      ],
      "metadata": {
        "colab": {
          "base_uri": "https://localhost:8080/"
        },
        "id": "9vqlEDUwwsGI",
        "outputId": "badf1782-dca6-468e-ad8e-e684c1c3f4e9"
      },
      "execution_count": 52,
      "outputs": [
        {
          "output_type": "stream",
          "name": "stdout",
          "text": [
            "the number is 5\n",
            "out of loop\n"
          ]
        }
      ]
    },
    {
      "cell_type": "code",
      "source": [
        "num = 5\n",
        "i = 1\n",
        "while i <= 10 :\n",
        "  print(num,\"*\",i,\"=\",num * i)\n",
        "  i +=1"
      ],
      "metadata": {
        "colab": {
          "base_uri": "https://localhost:8080/"
        },
        "id": "SbDuVBQZzBgI",
        "outputId": "3c1058e6-9514-4de1-e694-d48b762b8eb5"
      },
      "execution_count": 55,
      "outputs": [
        {
          "output_type": "stream",
          "name": "stdout",
          "text": [
            "5 * 1 = 5\n",
            "5 * 2 = 10\n",
            "5 * 3 = 15\n",
            "5 * 4 = 20\n",
            "5 * 5 = 25\n",
            "5 * 6 = 30\n",
            "5 * 7 = 35\n",
            "5 * 8 = 40\n",
            "5 * 9 = 45\n",
            "5 * 10 = 50\n"
          ]
        }
      ]
    },
    {
      "cell_type": "code",
      "source": [
        "num = 153\n",
        "rem = 0\n",
        "sum = 0\n",
        "temp = num\n",
        "while num > 0 :\n",
        "  rem = num % 10\n",
        "  sum = sum + rem * rem * rem\n",
        "  num = num // 10\n",
        "if temp == sum :\n",
        "    print (\"armstrong number\")\n",
        "else :\n",
        "    print(\"not armstrong number\")\n"
      ],
      "metadata": {
        "colab": {
          "base_uri": "https://localhost:8080/"
        },
        "id": "Rc-NGNPSzBVf",
        "outputId": "1b4cdf66-7eaf-49ee-eee2-4f0ecd12c47d"
      },
      "execution_count": 81,
      "outputs": [
        {
          "output_type": "stream",
          "name": "stdout",
          "text": [
            "armstrong number\n"
          ]
        }
      ]
    },
    {
      "cell_type": "markdown",
      "source": [],
      "metadata": {
        "id": "oV3-ce0G-NLV"
      }
    },
    {
      "cell_type": "code",
      "source": [
        "num = 12345\n",
        "rem = 0\n",
        "rev = 0\n",
        "temp = num\n",
        "while num > 0 :\n",
        "  rem = num % 10\n",
        "  rev = rev * 10 + rem\n",
        "  num = num // 10\n",
        "print(\"reverse num is :\",rev)"
      ],
      "metadata": {
        "colab": {
          "base_uri": "https://localhost:8080/"
        },
        "id": "3deHecvh8tx_",
        "outputId": "3858a6b4-7753-4d76-c7e1-cadbd078e494"
      },
      "execution_count": 83,
      "outputs": [
        {
          "output_type": "stream",
          "name": "stdout",
          "text": [
            "reverse num is : 54321\n"
          ]
        }
      ]
    },
    {
      "cell_type": "code",
      "source": [
        "num = 12345\n",
        "rem = 0\n",
        "rev = 0\n",
        "temp = num\n",
        "while num > 0 :\n",
        "  rem = num % 10\n",
        "  rev = rev * 10 + rem\n",
        "  num = num // 10\n",
        "if temp == rev :\n",
        "    print (\"polindrome number\")\n",
        "else :\n",
        "    print(\"not polindrome number\")\n"
      ],
      "metadata": {
        "colab": {
          "base_uri": "https://localhost:8080/"
        },
        "id": "lZks9CMK_mzw",
        "outputId": "10426e27-f7d3-45b3-9349-59ff511b95f1"
      },
      "execution_count": 85,
      "outputs": [
        {
          "output_type": "stream",
          "name": "stdout",
          "text": [
            "not polindrome number\n"
          ]
        }
      ]
    },
    {
      "cell_type": "code",
      "source": [
        "i = 2\n",
        "while i <= 100 :\n",
        "  print(i, end = \" \")\n",
        "  i+=2\n"
      ],
      "metadata": {
        "colab": {
          "base_uri": "https://localhost:8080/"
        },
        "id": "JoYuXYWnAFLp",
        "outputId": "97b5f722-a516-428a-b197-f2d439d4d914"
      },
      "execution_count": 86,
      "outputs": [
        {
          "output_type": "stream",
          "name": "stdout",
          "text": [
            "2 4 6 8 10 12 14 16 18 20 22 24 26 28 30 32 34 36 38 40 42 44 46 48 50 52 54 56 58 60 62 64 66 68 70 72 74 76 78 80 82 84 86 88 90 92 94 96 98 100 "
          ]
        }
      ]
    },
    {
      "cell_type": "code",
      "source": [
        "i = 1\n",
        "while i <= 100 :\n",
        "  print(i, end = \" \")\n",
        "  i+=2"
      ],
      "metadata": {
        "colab": {
          "base_uri": "https://localhost:8080/"
        },
        "id": "K6k0QrnOBGeq",
        "outputId": "a27c2a52-3459-4e14-bdf4-5c73dd807383"
      },
      "execution_count": 87,
      "outputs": [
        {
          "output_type": "stream",
          "name": "stdout",
          "text": [
            "1 3 5 7 9 11 13 15 17 19 21 23 25 27 29 31 33 35 37 39 41 43 45 47 49 51 53 55 57 59 61 63 65 67 69 71 73 75 77 79 81 83 85 87 89 91 93 95 97 99 "
          ]
        }
      ]
    },
    {
      "cell_type": "code",
      "source": [
        " num, a, b = 10, 0, 1\n",
        " i = 0\n",
        " while i <= num :\n",
        "    print(a, end = \" \")\n",
        "    a, b = b, a+b\n",
        "    i +=1"
      ],
      "metadata": {
        "colab": {
          "base_uri": "https://localhost:8080/"
        },
        "id": "WXZ7WKThBgzE",
        "outputId": "65053c66-3f88-4fe7-83d2-35e41261232f"
      },
      "execution_count": 90,
      "outputs": [
        {
          "output_type": "stream",
          "name": "stdout",
          "text": [
            "0 1 1 2 3 5 8 13 21 34 55 "
          ]
        }
      ]
    },
    {
      "cell_type": "code",
      "source": [
        "num = int(input(\"Enter a number: \"))\n",
        "count = 0\n",
        "i = 1\n",
        "while i <= num :\n",
        "  if num % i == 0 :\n",
        "    count +=1\n",
        "  i +=1\n",
        "if count == 2 :\n",
        "  print(\"prime number\")\n",
        "else :\n",
        "  print(\"not prime number\")\n"
      ],
      "metadata": {
        "colab": {
          "base_uri": "https://localhost:8080/"
        },
        "id": "5z2A5F00Bfdh",
        "outputId": "fd54e1c7-9a68-4144-f62e-921ea4f11395"
      },
      "execution_count": 91,
      "outputs": [
        {
          "output_type": "stream",
          "name": "stdout",
          "text": [
            "Enter a number: 7\n",
            "prime number\n"
          ]
        }
      ]
    },
    {
      "cell_type": "code",
      "source": [
        "num = 10\n",
        "i = 0\n",
        "while num >= i :\n",
        "  print(num, end=\" \")\n",
        "  num-=1"
      ],
      "metadata": {
        "colab": {
          "base_uri": "https://localhost:8080/"
        },
        "id": "sNLRV7CzERKP",
        "outputId": "01f3fdb4-fc7b-4a26-aef3-7e410d17826e"
      },
      "execution_count": 92,
      "outputs": [
        {
          "output_type": "stream",
          "name": "stdout",
          "text": [
            "10 9 8 7 6 5 4 3 2 1 0 "
          ]
        }
      ]
    },
    {
      "cell_type": "code",
      "source": [
        "i = 10\n",
        "while i <= 1208 :\n",
        "  print(i, end=\" \")\n",
        "  i*=2\n",
        ""
      ],
      "metadata": {
        "colab": {
          "base_uri": "https://localhost:8080/"
        },
        "id": "-NgiNOowEoUn",
        "outputId": "c622e429-4ca7-4574-96d7-3acc57139684"
      },
      "execution_count": 93,
      "outputs": [
        {
          "output_type": "stream",
          "name": "stdout",
          "text": [
            "10 20 40 80 160 320 640 "
          ]
        }
      ]
    },
    {
      "cell_type": "code",
      "source": [
        "  colours = ['blue','red','black']\n",
        "  print(type(colours))\n",
        "\n",
        "  for i in colours :\n",
        "    print(i)"
      ],
      "metadata": {
        "colab": {
          "base_uri": "https://localhost:8080/"
        },
        "id": "NFNShkw3VPSQ",
        "outputId": "acef2630-669a-4157-a9fc-b7b911cb2893"
      },
      "execution_count": 103,
      "outputs": [
        {
          "output_type": "stream",
          "name": "stdout",
          "text": [
            "<class 'list'>\n",
            "blue\n",
            "red\n",
            "black\n"
          ]
        }
      ]
    },
    {
      "cell_type": "code",
      "source": [
        "colour = ['white','pink','black']\n",
        "for i in colour :\n",
        "  print(i)"
      ],
      "metadata": {
        "colab": {
          "base_uri": "https://localhost:8080/"
        },
        "id": "dUQFtSkKbjUo",
        "outputId": "4b9a07d5-34ba-4e6b-9d6c-fd69f8584e01"
      },
      "execution_count": 106,
      "outputs": [
        {
          "output_type": "stream",
          "name": "stdout",
          "text": [
            "white\n",
            "pink\n",
            "black\n"
          ]
        }
      ]
    },
    {
      "cell_type": "code",
      "source": [
        "numbers = {1,2,3,4,5,6,6,7,8,8,9}\n",
        "for i in numbers :\n",
        "  print(i)"
      ],
      "metadata": {
        "colab": {
          "base_uri": "https://localhost:8080/"
        },
        "id": "nXcuf_ztcFqZ",
        "outputId": "515fa03f-0f01-4ca2-c20d-87b569b690fa"
      },
      "execution_count": 107,
      "outputs": [
        {
          "output_type": "stream",
          "name": "stdout",
          "text": [
            "1\n",
            "2\n",
            "3\n",
            "4\n",
            "5\n",
            "6\n",
            "7\n",
            "8\n",
            "9\n"
          ]
        }
      ]
    },
    {
      "cell_type": "code",
      "source": [
        "Name = \"KLE BK BCA College in chikodi\"\n",
        "rev =  \" \"\n",
        "for i in Name :\n",
        "  rev = i + rev\n",
        "print(rev)"
      ],
      "metadata": {
        "colab": {
          "base_uri": "https://localhost:8080/"
        },
        "id": "k48DYOnKcn25",
        "outputId": "3d503cc9-d3c0-4032-d65a-fb99c9dd1d07"
      },
      "execution_count": 108,
      "outputs": [
        {
          "output_type": "stream",
          "name": "stdout",
          "text": [
            "idokihc ni egelloC ACB KB ELK \n"
          ]
        }
      ]
    },
    {
      "cell_type": "code",
      "source": [
        "num = 10\n",
        "for i in range(1,11) :\n",
        "  print(num,\"*\",i,\"=\",num * i)"
      ],
      "metadata": {
        "colab": {
          "base_uri": "https://localhost:8080/"
        },
        "id": "kyfOwbemdOBg",
        "outputId": "8ad5d37c-fce4-4548-9591-2d31db72693e"
      },
      "execution_count": 109,
      "outputs": [
        {
          "output_type": "stream",
          "name": "stdout",
          "text": [
            "10 * 1 = 10\n",
            "10 * 2 = 20\n",
            "10 * 3 = 30\n",
            "10 * 4 = 40\n",
            "10 * 5 = 50\n",
            "10 * 6 = 60\n",
            "10 * 7 = 70\n",
            "10 * 8 = 80\n",
            "10 * 9 = 90\n",
            "10 * 10 = 100\n"
          ]
        }
      ]
    },
    {
      "cell_type": "code",
      "source": [
        "for i in range(1,101) :\n",
        "  if i % 2 == 0 :\n",
        "    print(i, end=\" \")"
      ],
      "metadata": {
        "colab": {
          "base_uri": "https://localhost:8080/"
        },
        "id": "x3G27D9AfylR",
        "outputId": "d0e001a0-94e3-4be3-9c2b-e24f028cb9f7"
      },
      "execution_count": 113,
      "outputs": [
        {
          "output_type": "stream",
          "name": "stdout",
          "text": [
            "2 4 6 8 10 12 14 16 18 20 22 24 26 28 30 32 34 36 38 40 42 44 46 48 50 52 54 56 58 60 62 64 66 68 70 72 74 76 78 80 82 84 86 88 90 92 94 96 98 100 "
          ]
        }
      ]
    },
    {
      "cell_type": "code",
      "source": [
        "for i in range(10):\n",
        "   print(i)"
      ],
      "metadata": {
        "colab": {
          "base_uri": "https://localhost:8080/"
        },
        "id": "GXgEBxcUmeiU",
        "outputId": "38d172fc-9822-422a-d83a-74c44c870bbb"
      },
      "execution_count": 118,
      "outputs": [
        {
          "output_type": "stream",
          "name": "stdout",
          "text": [
            "0\n",
            "1\n",
            "2\n",
            "3\n",
            "4\n",
            "5\n",
            "6\n",
            "7\n",
            "8\n",
            "9\n"
          ]
        }
      ]
    },
    {
      "cell_type": "code",
      "source": [
        "for i in range(1,11):\n",
        "   print(i)"
      ],
      "metadata": {
        "colab": {
          "base_uri": "https://localhost:8080/"
        },
        "id": "cNXnAzvcm4zZ",
        "outputId": "acd24c1f-301a-411d-ef6c-c5abf13bea5f"
      },
      "execution_count": 127,
      "outputs": [
        {
          "output_type": "stream",
          "name": "stdout",
          "text": [
            "1\n",
            "2\n",
            "3\n",
            "4\n",
            "5\n",
            "6\n",
            "7\n",
            "8\n",
            "9\n",
            "10\n"
          ]
        }
      ]
    },
    {
      "cell_type": "code",
      "source": [
        "sum = 0\n",
        "for i in range(1,11):\n",
        "  sum = sum + i\n",
        "  print(sum)\n",
        "\n",
        "\n"
      ],
      "metadata": {
        "colab": {
          "base_uri": "https://localhost:8080/"
        },
        "id": "cgjt3x_anwMA",
        "outputId": "17e33900-1993-4ac1-8fe4-c171ca4aec94"
      },
      "execution_count": 133,
      "outputs": [
        {
          "output_type": "stream",
          "name": "stdout",
          "text": [
            "1\n",
            "3\n",
            "6\n",
            "10\n",
            "15\n",
            "21\n",
            "28\n",
            "36\n",
            "45\n",
            "55\n"
          ]
        }
      ]
    },
    {
      "cell_type": "code",
      "source": [
        "num = 4\n",
        "for i in range(1,11) :\n",
        "  print(num,\"*\",i,\"=\",num * i)"
      ],
      "metadata": {
        "id": "AVuHY2mqp2Co",
        "outputId": "c7e78164-b264-4a69-a765-4ac7cfd64d94",
        "colab": {
          "base_uri": "https://localhost:8080/"
        }
      },
      "execution_count": 134,
      "outputs": [
        {
          "output_type": "stream",
          "name": "stdout",
          "text": [
            "4 * 1 = 4\n",
            "4 * 2 = 8\n",
            "4 * 3 = 12\n",
            "4 * 4 = 16\n",
            "4 * 5 = 20\n",
            "4 * 6 = 24\n",
            "4 * 7 = 28\n",
            "4 * 8 = 32\n",
            "4 * 9 = 36\n",
            "4 * 10 = 40\n"
          ]
        }
      ]
    },
    {
      "cell_type": "code",
      "source": [
        "num = 16\n",
        "for i in range(1,11):\n",
        "   print(num,\"*\",i,\"=\",num* i)"
      ],
      "metadata": {
        "id": "JMNwwXiQqqBZ",
        "outputId": "d830d0d5-a7b5-43ec-b8e1-ca3c1678d286",
        "colab": {
          "base_uri": "https://localhost:8080/"
        }
      },
      "execution_count": 137,
      "outputs": [
        {
          "output_type": "stream",
          "name": "stdout",
          "text": [
            "16 * 1 = 16\n",
            "16 * 2 = 32\n",
            "16 * 3 = 48\n",
            "16 * 4 = 64\n",
            "16 * 5 = 80\n",
            "16 * 6 = 96\n",
            "16 * 7 = 112\n",
            "16 * 8 = 128\n",
            "16 * 9 = 144\n",
            "16 * 10 = 160\n"
          ]
        }
      ]
    },
    {
      "cell_type": "code",
      "source": [
        "for i in range(2, 101, 2):\n",
        "  print(i, end=\" \")"
      ],
      "metadata": {
        "id": "tbof-WLdsGI4",
        "outputId": "2f5ef6e9-9f90-442a-bd1b-d9dc409ea8e8",
        "colab": {
          "base_uri": "https://localhost:8080/"
        }
      },
      "execution_count": 139,
      "outputs": [
        {
          "output_type": "stream",
          "name": "stdout",
          "text": [
            "2 4 6 8 10 12 14 16 18 20 22 24 26 28 30 32 34 36 38 40 42 44 46 48 50 52 54 56 58 60 62 64 66 68 70 72 74 76 78 80 82 84 86 88 90 92 94 96 98 100 "
          ]
        }
      ]
    },
    {
      "cell_type": "code",
      "source": [
        "fact = 1\n",
        "for i in range(1,6) :\n",
        "  fact = fact * i\n",
        "  print(fact)"
      ],
      "metadata": {
        "id": "G-tUOX5ds1Jh",
        "outputId": "aea6bdd2-6136-4243-cd54-6e9660eb65a2",
        "colab": {
          "base_uri": "https://localhost:8080/"
        }
      },
      "execution_count": 143,
      "outputs": [
        {
          "output_type": "stream",
          "name": "stdout",
          "text": [
            "1\n",
            "2\n",
            "6\n",
            "24\n",
            "120\n"
          ]
        }
      ]
    },
    {
      "cell_type": "code",
      "source": [],
      "metadata": {
        "id": "WjfX1ycounII",
        "outputId": "d42d9036-2a6f-4afe-a956-9b2ea8b813fd",
        "colab": {
          "base_uri": "https://localhost:8080/",
          "height": 106
        }
      },
      "execution_count": 146,
      "outputs": [
        {
          "output_type": "error",
          "ename": "IndentationError",
          "evalue": "unexpected indent (ipython-input-2775716316.py, line 2)",
          "traceback": [
            "\u001b[0;36m  File \u001b[0;32m\"/tmp/ipython-input-2775716316.py\"\u001b[0;36m, line \u001b[0;32m2\u001b[0m\n\u001b[0;31m    print (0,1)\u001b[0m\n\u001b[0m    ^\u001b[0m\n\u001b[0;31mIndentationError\u001b[0m\u001b[0;31m:\u001b[0m unexpected indent\n"
          ]
        }
      ]
    },
    {
      "cell_type": "markdown",
      "source": [],
      "metadata": {
        "id": "zd3R46Mp4Z1v"
      }
    }
  ]
}